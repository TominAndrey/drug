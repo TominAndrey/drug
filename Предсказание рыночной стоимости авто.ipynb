{
 "cells": [
  {
   "cell_type": "markdown",
   "id": "7ac5168f-0091-4ffd-8fe7-df087103e430",
   "metadata": {},
   "source": [
    "# Проект: Определение  рыночной стоимости автомобилей"
   ]
  },
  {
   "cell_type": "markdown",
   "id": "ccdab2cc-87a9-419b-9497-b06d1485fd39",
   "metadata": {},
   "source": [
    "## Описание проекта:\n",
    "Сервис по продаже автомобилей с пробегом «Не бит, не крашен» разрабатывает приложение, чтобы привлечь новых клиентов. В нём можно будет узнать рыночную стоимость своего автомобиля. \n",
    "Постройте модель, которая умеет её определять. В вашем распоряжении данные о технических характеристиках, комплектации и ценах других автомобилей."
   ]
  },
  {
   "cell_type": "markdown",
   "id": "c8caa687-f01f-4770-b4fb-b5b6d0118484",
   "metadata": {},
   "source": [
    "## Задачи:\n",
    "1) Загрузить и подготовить данные.\n",
    "2) Обучить разные модели. Для каждой попробовать различные гиперпараметеры.\n",
    "3) Проанализировать скорость работы и качество моделей."
   ]
  },
  {
   "cell_type": "markdown",
   "id": "53e0760a-eade-48c1-986d-460050531f99",
   "metadata": {},
   "source": [
    "## Описание данных\n",
    "\n",
    "Признаки\n",
    "- DateCrawled — дата скачивания анкеты из базы\n",
    "- VehicleType — тип автомобильного кузова\n",
    "- RegistrationYear — год регистрации автомобиля\n",
    "- Gearbox — тип коробки передач\n",
    "- Power — мощность (л. с.)\n",
    "- Model — модель автомобиля\n",
    "- Kilometer — пробег (км)\n",
    "- RegistrationMonth — месяц регистрации автомобиля\n",
    "- FuelType — тип топлива\n",
    "- Brand — марка автомобиля\n",
    "- NotRepaired — была машина в ремонте или нет\n",
    "- DateCreated — дата создания анкеты\n",
    "- NumberOfPictures — количество фотографий автомобиля\n",
    "- PostalCode — почтовый индекс владельца анкеты (пользователя)\n",
    "- LastSeen — дата последней активности пользователя\n",
    "\n",
    "Целевой признак\n",
    "- Price — цена (евро)"
   ]
  },
  {
   "cell_type": "markdown",
   "id": "a4c38c70-f6c1-41a1-8056-ad0da9a42e02",
   "metadata": {},
   "source": [
    "---"
   ]
  },
  {
   "cell_type": "markdown",
   "id": "9960f04c-ad1a-4a4b-8737-75a07d448596",
   "metadata": {},
   "source": [
    "# Импорты и подготовка данных"
   ]
  },
  {
   "cell_type": "code",
   "execution_count": 1,
   "id": "9f94f41f",
   "metadata": {},
   "outputs": [],
   "source": [
    "!pip install scikit-learn==1.1.3 -q"
   ]
  },
  {
   "cell_type": "code",
   "execution_count": 2,
   "id": "a20ece5e-9b05-4a63-8a38-00c29f03de8e",
   "metadata": {
    "tags": []
   },
   "outputs": [],
   "source": [
    "import pandas as pd\n",
    "import numpy as np\n",
    "import lightgbm as lgb\n",
    "import time\n",
    "import seaborn as sns\n",
    "import matplotlib.pyplot as plt\n",
    "from sklearn.preprocessing import OrdinalEncoder\n",
    "from sklearn.preprocessing import StandardScaler\n",
    "from sklearn.preprocessing import MinMaxScaler\n",
    "from sklearn.model_selection import train_test_split, GridSearchCV, RandomizedSearchCV\n",
    "from sklearn.linear_model import LinearRegression\n",
    "from sklearn.ensemble import GradientBoostingRegressor\n",
    "from sklearn.metrics import mean_squared_error, make_scorer\n",
    "from catboost import CatBoostRegressor, Pool\n",
    "from lightgbm import LGBMRegressor\n",
    "from sklearn.tree import DecisionTreeRegressor"
   ]
  },
  {
   "cell_type": "code",
   "execution_count": 3,
   "id": "8c465f96-9149-4e9c-9cc0-3e544aa42c59",
   "metadata": {},
   "outputs": [],
   "source": [
    "try:\n",
    "    df = pd.read_csv(\"/datasets/autos.csv\")\n",
    "except:\n",
    "    df = pd.read_csv('https://code.s3.yandex.net/datasets/autos.csv')"
   ]
  },
  {
   "cell_type": "code",
   "execution_count": 4,
   "id": "6914cfac-a462-46e0-a3e8-01c47129ce4b",
   "metadata": {},
   "outputs": [
    {
     "data": {
      "text/html": [
       "<div>\n",
       "<style scoped>\n",
       "    .dataframe tbody tr th:only-of-type {\n",
       "        vertical-align: middle;\n",
       "    }\n",
       "\n",
       "    .dataframe tbody tr th {\n",
       "        vertical-align: top;\n",
       "    }\n",
       "\n",
       "    .dataframe thead th {\n",
       "        text-align: right;\n",
       "    }\n",
       "</style>\n",
       "<table border=\"1\" class=\"dataframe\">\n",
       "  <thead>\n",
       "    <tr style=\"text-align: right;\">\n",
       "      <th></th>\n",
       "      <th>DateCrawled</th>\n",
       "      <th>Price</th>\n",
       "      <th>VehicleType</th>\n",
       "      <th>RegistrationYear</th>\n",
       "      <th>Gearbox</th>\n",
       "      <th>Power</th>\n",
       "      <th>Model</th>\n",
       "      <th>Kilometer</th>\n",
       "      <th>RegistrationMonth</th>\n",
       "      <th>FuelType</th>\n",
       "      <th>Brand</th>\n",
       "      <th>Repaired</th>\n",
       "      <th>DateCreated</th>\n",
       "      <th>NumberOfPictures</th>\n",
       "      <th>PostalCode</th>\n",
       "      <th>LastSeen</th>\n",
       "    </tr>\n",
       "  </thead>\n",
       "  <tbody>\n",
       "    <tr>\n",
       "      <th>0</th>\n",
       "      <td>2016-03-24 11:52:17</td>\n",
       "      <td>480</td>\n",
       "      <td>NaN</td>\n",
       "      <td>1993</td>\n",
       "      <td>manual</td>\n",
       "      <td>0</td>\n",
       "      <td>golf</td>\n",
       "      <td>150000</td>\n",
       "      <td>0</td>\n",
       "      <td>petrol</td>\n",
       "      <td>volkswagen</td>\n",
       "      <td>NaN</td>\n",
       "      <td>2016-03-24 00:00:00</td>\n",
       "      <td>0</td>\n",
       "      <td>70435</td>\n",
       "      <td>2016-04-07 03:16:57</td>\n",
       "    </tr>\n",
       "    <tr>\n",
       "      <th>1</th>\n",
       "      <td>2016-03-24 10:58:45</td>\n",
       "      <td>18300</td>\n",
       "      <td>coupe</td>\n",
       "      <td>2011</td>\n",
       "      <td>manual</td>\n",
       "      <td>190</td>\n",
       "      <td>NaN</td>\n",
       "      <td>125000</td>\n",
       "      <td>5</td>\n",
       "      <td>gasoline</td>\n",
       "      <td>audi</td>\n",
       "      <td>yes</td>\n",
       "      <td>2016-03-24 00:00:00</td>\n",
       "      <td>0</td>\n",
       "      <td>66954</td>\n",
       "      <td>2016-04-07 01:46:50</td>\n",
       "    </tr>\n",
       "    <tr>\n",
       "      <th>2</th>\n",
       "      <td>2016-03-14 12:52:21</td>\n",
       "      <td>9800</td>\n",
       "      <td>suv</td>\n",
       "      <td>2004</td>\n",
       "      <td>auto</td>\n",
       "      <td>163</td>\n",
       "      <td>grand</td>\n",
       "      <td>125000</td>\n",
       "      <td>8</td>\n",
       "      <td>gasoline</td>\n",
       "      <td>jeep</td>\n",
       "      <td>NaN</td>\n",
       "      <td>2016-03-14 00:00:00</td>\n",
       "      <td>0</td>\n",
       "      <td>90480</td>\n",
       "      <td>2016-04-05 12:47:46</td>\n",
       "    </tr>\n",
       "    <tr>\n",
       "      <th>3</th>\n",
       "      <td>2016-03-17 16:54:04</td>\n",
       "      <td>1500</td>\n",
       "      <td>small</td>\n",
       "      <td>2001</td>\n",
       "      <td>manual</td>\n",
       "      <td>75</td>\n",
       "      <td>golf</td>\n",
       "      <td>150000</td>\n",
       "      <td>6</td>\n",
       "      <td>petrol</td>\n",
       "      <td>volkswagen</td>\n",
       "      <td>no</td>\n",
       "      <td>2016-03-17 00:00:00</td>\n",
       "      <td>0</td>\n",
       "      <td>91074</td>\n",
       "      <td>2016-03-17 17:40:17</td>\n",
       "    </tr>\n",
       "    <tr>\n",
       "      <th>4</th>\n",
       "      <td>2016-03-31 17:25:20</td>\n",
       "      <td>3600</td>\n",
       "      <td>small</td>\n",
       "      <td>2008</td>\n",
       "      <td>manual</td>\n",
       "      <td>69</td>\n",
       "      <td>fabia</td>\n",
       "      <td>90000</td>\n",
       "      <td>7</td>\n",
       "      <td>gasoline</td>\n",
       "      <td>skoda</td>\n",
       "      <td>no</td>\n",
       "      <td>2016-03-31 00:00:00</td>\n",
       "      <td>0</td>\n",
       "      <td>60437</td>\n",
       "      <td>2016-04-06 10:17:21</td>\n",
       "    </tr>\n",
       "    <tr>\n",
       "      <th>5</th>\n",
       "      <td>2016-04-04 17:36:23</td>\n",
       "      <td>650</td>\n",
       "      <td>sedan</td>\n",
       "      <td>1995</td>\n",
       "      <td>manual</td>\n",
       "      <td>102</td>\n",
       "      <td>3er</td>\n",
       "      <td>150000</td>\n",
       "      <td>10</td>\n",
       "      <td>petrol</td>\n",
       "      <td>bmw</td>\n",
       "      <td>yes</td>\n",
       "      <td>2016-04-04 00:00:00</td>\n",
       "      <td>0</td>\n",
       "      <td>33775</td>\n",
       "      <td>2016-04-06 19:17:07</td>\n",
       "    </tr>\n",
       "    <tr>\n",
       "      <th>6</th>\n",
       "      <td>2016-04-01 20:48:51</td>\n",
       "      <td>2200</td>\n",
       "      <td>convertible</td>\n",
       "      <td>2004</td>\n",
       "      <td>manual</td>\n",
       "      <td>109</td>\n",
       "      <td>2_reihe</td>\n",
       "      <td>150000</td>\n",
       "      <td>8</td>\n",
       "      <td>petrol</td>\n",
       "      <td>peugeot</td>\n",
       "      <td>no</td>\n",
       "      <td>2016-04-01 00:00:00</td>\n",
       "      <td>0</td>\n",
       "      <td>67112</td>\n",
       "      <td>2016-04-05 18:18:39</td>\n",
       "    </tr>\n",
       "    <tr>\n",
       "      <th>7</th>\n",
       "      <td>2016-03-21 18:54:38</td>\n",
       "      <td>0</td>\n",
       "      <td>sedan</td>\n",
       "      <td>1980</td>\n",
       "      <td>manual</td>\n",
       "      <td>50</td>\n",
       "      <td>other</td>\n",
       "      <td>40000</td>\n",
       "      <td>7</td>\n",
       "      <td>petrol</td>\n",
       "      <td>volkswagen</td>\n",
       "      <td>no</td>\n",
       "      <td>2016-03-21 00:00:00</td>\n",
       "      <td>0</td>\n",
       "      <td>19348</td>\n",
       "      <td>2016-03-25 16:47:58</td>\n",
       "    </tr>\n",
       "    <tr>\n",
       "      <th>8</th>\n",
       "      <td>2016-04-04 23:42:13</td>\n",
       "      <td>14500</td>\n",
       "      <td>bus</td>\n",
       "      <td>2014</td>\n",
       "      <td>manual</td>\n",
       "      <td>125</td>\n",
       "      <td>c_max</td>\n",
       "      <td>30000</td>\n",
       "      <td>8</td>\n",
       "      <td>petrol</td>\n",
       "      <td>ford</td>\n",
       "      <td>NaN</td>\n",
       "      <td>2016-04-04 00:00:00</td>\n",
       "      <td>0</td>\n",
       "      <td>94505</td>\n",
       "      <td>2016-04-04 23:42:13</td>\n",
       "    </tr>\n",
       "    <tr>\n",
       "      <th>9</th>\n",
       "      <td>2016-03-17 10:53:50</td>\n",
       "      <td>999</td>\n",
       "      <td>small</td>\n",
       "      <td>1998</td>\n",
       "      <td>manual</td>\n",
       "      <td>101</td>\n",
       "      <td>golf</td>\n",
       "      <td>150000</td>\n",
       "      <td>0</td>\n",
       "      <td>NaN</td>\n",
       "      <td>volkswagen</td>\n",
       "      <td>NaN</td>\n",
       "      <td>2016-03-17 00:00:00</td>\n",
       "      <td>0</td>\n",
       "      <td>27472</td>\n",
       "      <td>2016-03-31 17:17:06</td>\n",
       "    </tr>\n",
       "    <tr>\n",
       "      <th>10</th>\n",
       "      <td>2016-03-26 19:54:18</td>\n",
       "      <td>2000</td>\n",
       "      <td>sedan</td>\n",
       "      <td>2004</td>\n",
       "      <td>manual</td>\n",
       "      <td>105</td>\n",
       "      <td>3_reihe</td>\n",
       "      <td>150000</td>\n",
       "      <td>12</td>\n",
       "      <td>petrol</td>\n",
       "      <td>mazda</td>\n",
       "      <td>no</td>\n",
       "      <td>2016-03-26 00:00:00</td>\n",
       "      <td>0</td>\n",
       "      <td>96224</td>\n",
       "      <td>2016-04-06 10:45:34</td>\n",
       "    </tr>\n",
       "    <tr>\n",
       "      <th>11</th>\n",
       "      <td>2016-04-07 10:06:22</td>\n",
       "      <td>2799</td>\n",
       "      <td>wagon</td>\n",
       "      <td>2005</td>\n",
       "      <td>manual</td>\n",
       "      <td>140</td>\n",
       "      <td>passat</td>\n",
       "      <td>150000</td>\n",
       "      <td>12</td>\n",
       "      <td>gasoline</td>\n",
       "      <td>volkswagen</td>\n",
       "      <td>yes</td>\n",
       "      <td>2016-04-07 00:00:00</td>\n",
       "      <td>0</td>\n",
       "      <td>57290</td>\n",
       "      <td>2016-04-07 10:25:17</td>\n",
       "    </tr>\n",
       "    <tr>\n",
       "      <th>12</th>\n",
       "      <td>2016-03-15 22:49:09</td>\n",
       "      <td>999</td>\n",
       "      <td>wagon</td>\n",
       "      <td>1995</td>\n",
       "      <td>manual</td>\n",
       "      <td>115</td>\n",
       "      <td>passat</td>\n",
       "      <td>150000</td>\n",
       "      <td>11</td>\n",
       "      <td>petrol</td>\n",
       "      <td>volkswagen</td>\n",
       "      <td>NaN</td>\n",
       "      <td>2016-03-15 00:00:00</td>\n",
       "      <td>0</td>\n",
       "      <td>37269</td>\n",
       "      <td>2016-04-01 13:16:16</td>\n",
       "    </tr>\n",
       "    <tr>\n",
       "      <th>13</th>\n",
       "      <td>2016-03-21 21:37:40</td>\n",
       "      <td>2500</td>\n",
       "      <td>wagon</td>\n",
       "      <td>2004</td>\n",
       "      <td>manual</td>\n",
       "      <td>131</td>\n",
       "      <td>passat</td>\n",
       "      <td>150000</td>\n",
       "      <td>2</td>\n",
       "      <td>NaN</td>\n",
       "      <td>volkswagen</td>\n",
       "      <td>no</td>\n",
       "      <td>2016-03-21 00:00:00</td>\n",
       "      <td>0</td>\n",
       "      <td>90762</td>\n",
       "      <td>2016-03-23 02:50:54</td>\n",
       "    </tr>\n",
       "    <tr>\n",
       "      <th>14</th>\n",
       "      <td>2016-03-21 12:57:01</td>\n",
       "      <td>17999</td>\n",
       "      <td>suv</td>\n",
       "      <td>2011</td>\n",
       "      <td>manual</td>\n",
       "      <td>190</td>\n",
       "      <td>navara</td>\n",
       "      <td>70000</td>\n",
       "      <td>3</td>\n",
       "      <td>gasoline</td>\n",
       "      <td>nissan</td>\n",
       "      <td>no</td>\n",
       "      <td>2016-03-21 00:00:00</td>\n",
       "      <td>0</td>\n",
       "      <td>4177</td>\n",
       "      <td>2016-04-06 07:45:42</td>\n",
       "    </tr>\n",
       "  </tbody>\n",
       "</table>\n",
       "</div>"
      ],
      "text/plain": [
       "            DateCrawled  Price  VehicleType  RegistrationYear Gearbox  Power  \\\n",
       "0   2016-03-24 11:52:17    480          NaN              1993  manual      0   \n",
       "1   2016-03-24 10:58:45  18300        coupe              2011  manual    190   \n",
       "2   2016-03-14 12:52:21   9800          suv              2004    auto    163   \n",
       "3   2016-03-17 16:54:04   1500        small              2001  manual     75   \n",
       "4   2016-03-31 17:25:20   3600        small              2008  manual     69   \n",
       "5   2016-04-04 17:36:23    650        sedan              1995  manual    102   \n",
       "6   2016-04-01 20:48:51   2200  convertible              2004  manual    109   \n",
       "7   2016-03-21 18:54:38      0        sedan              1980  manual     50   \n",
       "8   2016-04-04 23:42:13  14500          bus              2014  manual    125   \n",
       "9   2016-03-17 10:53:50    999        small              1998  manual    101   \n",
       "10  2016-03-26 19:54:18   2000        sedan              2004  manual    105   \n",
       "11  2016-04-07 10:06:22   2799        wagon              2005  manual    140   \n",
       "12  2016-03-15 22:49:09    999        wagon              1995  manual    115   \n",
       "13  2016-03-21 21:37:40   2500        wagon              2004  manual    131   \n",
       "14  2016-03-21 12:57:01  17999          suv              2011  manual    190   \n",
       "\n",
       "      Model  Kilometer  RegistrationMonth  FuelType       Brand Repaired  \\\n",
       "0      golf     150000                  0    petrol  volkswagen      NaN   \n",
       "1       NaN     125000                  5  gasoline        audi      yes   \n",
       "2     grand     125000                  8  gasoline        jeep      NaN   \n",
       "3      golf     150000                  6    petrol  volkswagen       no   \n",
       "4     fabia      90000                  7  gasoline       skoda       no   \n",
       "5       3er     150000                 10    petrol         bmw      yes   \n",
       "6   2_reihe     150000                  8    petrol     peugeot       no   \n",
       "7     other      40000                  7    petrol  volkswagen       no   \n",
       "8     c_max      30000                  8    petrol        ford      NaN   \n",
       "9      golf     150000                  0       NaN  volkswagen      NaN   \n",
       "10  3_reihe     150000                 12    petrol       mazda       no   \n",
       "11   passat     150000                 12  gasoline  volkswagen      yes   \n",
       "12   passat     150000                 11    petrol  volkswagen      NaN   \n",
       "13   passat     150000                  2       NaN  volkswagen       no   \n",
       "14   navara      70000                  3  gasoline      nissan       no   \n",
       "\n",
       "            DateCreated  NumberOfPictures  PostalCode             LastSeen  \n",
       "0   2016-03-24 00:00:00                 0       70435  2016-04-07 03:16:57  \n",
       "1   2016-03-24 00:00:00                 0       66954  2016-04-07 01:46:50  \n",
       "2   2016-03-14 00:00:00                 0       90480  2016-04-05 12:47:46  \n",
       "3   2016-03-17 00:00:00                 0       91074  2016-03-17 17:40:17  \n",
       "4   2016-03-31 00:00:00                 0       60437  2016-04-06 10:17:21  \n",
       "5   2016-04-04 00:00:00                 0       33775  2016-04-06 19:17:07  \n",
       "6   2016-04-01 00:00:00                 0       67112  2016-04-05 18:18:39  \n",
       "7   2016-03-21 00:00:00                 0       19348  2016-03-25 16:47:58  \n",
       "8   2016-04-04 00:00:00                 0       94505  2016-04-04 23:42:13  \n",
       "9   2016-03-17 00:00:00                 0       27472  2016-03-31 17:17:06  \n",
       "10  2016-03-26 00:00:00                 0       96224  2016-04-06 10:45:34  \n",
       "11  2016-04-07 00:00:00                 0       57290  2016-04-07 10:25:17  \n",
       "12  2016-03-15 00:00:00                 0       37269  2016-04-01 13:16:16  \n",
       "13  2016-03-21 00:00:00                 0       90762  2016-03-23 02:50:54  \n",
       "14  2016-03-21 00:00:00                 0        4177  2016-04-06 07:45:42  "
      ]
     },
     "execution_count": 4,
     "metadata": {},
     "output_type": "execute_result"
    }
   ],
   "source": [
    "df.head(15)"
   ]
  },
  {
   "cell_type": "code",
   "execution_count": 5,
   "id": "592fefcb-aa37-431d-bafb-2cfbe45f2b24",
   "metadata": {},
   "outputs": [
    {
     "name": "stdout",
     "output_type": "stream",
     "text": [
      "<class 'pandas.core.frame.DataFrame'>\n",
      "RangeIndex: 354369 entries, 0 to 354368\n",
      "Data columns (total 16 columns):\n",
      " #   Column             Non-Null Count   Dtype \n",
      "---  ------             --------------   ----- \n",
      " 0   DateCrawled        354369 non-null  object\n",
      " 1   Price              354369 non-null  int64 \n",
      " 2   VehicleType        316879 non-null  object\n",
      " 3   RegistrationYear   354369 non-null  int64 \n",
      " 4   Gearbox            334536 non-null  object\n",
      " 5   Power              354369 non-null  int64 \n",
      " 6   Model              334664 non-null  object\n",
      " 7   Kilometer          354369 non-null  int64 \n",
      " 8   RegistrationMonth  354369 non-null  int64 \n",
      " 9   FuelType           321474 non-null  object\n",
      " 10  Brand              354369 non-null  object\n",
      " 11  Repaired           283215 non-null  object\n",
      " 12  DateCreated        354369 non-null  object\n",
      " 13  NumberOfPictures   354369 non-null  int64 \n",
      " 14  PostalCode         354369 non-null  int64 \n",
      " 15  LastSeen           354369 non-null  object\n",
      "dtypes: int64(7), object(9)\n",
      "memory usage: 43.3+ MB\n"
     ]
    }
   ],
   "source": [
    "df.info()"
   ]
  },
  {
   "cell_type": "code",
   "execution_count": 6,
   "id": "79dfece2-0aee-4869-b694-d9999078213e",
   "metadata": {},
   "outputs": [
    {
     "data": {
      "text/html": [
       "<div>\n",
       "<style scoped>\n",
       "    .dataframe tbody tr th:only-of-type {\n",
       "        vertical-align: middle;\n",
       "    }\n",
       "\n",
       "    .dataframe tbody tr th {\n",
       "        vertical-align: top;\n",
       "    }\n",
       "\n",
       "    .dataframe thead th {\n",
       "        text-align: right;\n",
       "    }\n",
       "</style>\n",
       "<table border=\"1\" class=\"dataframe\">\n",
       "  <thead>\n",
       "    <tr style=\"text-align: right;\">\n",
       "      <th></th>\n",
       "      <th>Price</th>\n",
       "      <th>RegistrationYear</th>\n",
       "      <th>Power</th>\n",
       "      <th>Kilometer</th>\n",
       "      <th>RegistrationMonth</th>\n",
       "      <th>NumberOfPictures</th>\n",
       "      <th>PostalCode</th>\n",
       "    </tr>\n",
       "  </thead>\n",
       "  <tbody>\n",
       "    <tr>\n",
       "      <th>count</th>\n",
       "      <td>354369.000000</td>\n",
       "      <td>354369.000000</td>\n",
       "      <td>354369.000000</td>\n",
       "      <td>354369.000000</td>\n",
       "      <td>354369.000000</td>\n",
       "      <td>354369.0</td>\n",
       "      <td>354369.000000</td>\n",
       "    </tr>\n",
       "    <tr>\n",
       "      <th>mean</th>\n",
       "      <td>4416.656776</td>\n",
       "      <td>2004.234448</td>\n",
       "      <td>110.094337</td>\n",
       "      <td>128211.172535</td>\n",
       "      <td>5.714645</td>\n",
       "      <td>0.0</td>\n",
       "      <td>50508.689087</td>\n",
       "    </tr>\n",
       "    <tr>\n",
       "      <th>std</th>\n",
       "      <td>4514.158514</td>\n",
       "      <td>90.227958</td>\n",
       "      <td>189.850405</td>\n",
       "      <td>37905.341530</td>\n",
       "      <td>3.726421</td>\n",
       "      <td>0.0</td>\n",
       "      <td>25783.096248</td>\n",
       "    </tr>\n",
       "    <tr>\n",
       "      <th>min</th>\n",
       "      <td>0.000000</td>\n",
       "      <td>1000.000000</td>\n",
       "      <td>0.000000</td>\n",
       "      <td>5000.000000</td>\n",
       "      <td>0.000000</td>\n",
       "      <td>0.0</td>\n",
       "      <td>1067.000000</td>\n",
       "    </tr>\n",
       "    <tr>\n",
       "      <th>25%</th>\n",
       "      <td>1050.000000</td>\n",
       "      <td>1999.000000</td>\n",
       "      <td>69.000000</td>\n",
       "      <td>125000.000000</td>\n",
       "      <td>3.000000</td>\n",
       "      <td>0.0</td>\n",
       "      <td>30165.000000</td>\n",
       "    </tr>\n",
       "    <tr>\n",
       "      <th>50%</th>\n",
       "      <td>2700.000000</td>\n",
       "      <td>2003.000000</td>\n",
       "      <td>105.000000</td>\n",
       "      <td>150000.000000</td>\n",
       "      <td>6.000000</td>\n",
       "      <td>0.0</td>\n",
       "      <td>49413.000000</td>\n",
       "    </tr>\n",
       "    <tr>\n",
       "      <th>75%</th>\n",
       "      <td>6400.000000</td>\n",
       "      <td>2008.000000</td>\n",
       "      <td>143.000000</td>\n",
       "      <td>150000.000000</td>\n",
       "      <td>9.000000</td>\n",
       "      <td>0.0</td>\n",
       "      <td>71083.000000</td>\n",
       "    </tr>\n",
       "    <tr>\n",
       "      <th>max</th>\n",
       "      <td>20000.000000</td>\n",
       "      <td>9999.000000</td>\n",
       "      <td>20000.000000</td>\n",
       "      <td>150000.000000</td>\n",
       "      <td>12.000000</td>\n",
       "      <td>0.0</td>\n",
       "      <td>99998.000000</td>\n",
       "    </tr>\n",
       "  </tbody>\n",
       "</table>\n",
       "</div>"
      ],
      "text/plain": [
       "               Price  RegistrationYear          Power      Kilometer  \\\n",
       "count  354369.000000     354369.000000  354369.000000  354369.000000   \n",
       "mean     4416.656776       2004.234448     110.094337  128211.172535   \n",
       "std      4514.158514         90.227958     189.850405   37905.341530   \n",
       "min         0.000000       1000.000000       0.000000    5000.000000   \n",
       "25%      1050.000000       1999.000000      69.000000  125000.000000   \n",
       "50%      2700.000000       2003.000000     105.000000  150000.000000   \n",
       "75%      6400.000000       2008.000000     143.000000  150000.000000   \n",
       "max     20000.000000       9999.000000   20000.000000  150000.000000   \n",
       "\n",
       "       RegistrationMonth  NumberOfPictures     PostalCode  \n",
       "count      354369.000000          354369.0  354369.000000  \n",
       "mean            5.714645               0.0   50508.689087  \n",
       "std             3.726421               0.0   25783.096248  \n",
       "min             0.000000               0.0    1067.000000  \n",
       "25%             3.000000               0.0   30165.000000  \n",
       "50%             6.000000               0.0   49413.000000  \n",
       "75%             9.000000               0.0   71083.000000  \n",
       "max            12.000000               0.0   99998.000000  "
      ]
     },
     "execution_count": 6,
     "metadata": {},
     "output_type": "execute_result"
    }
   ],
   "source": [
    "df.describe()"
   ]
  },
  {
   "cell_type": "code",
   "execution_count": 7,
   "id": "0d05e305-4131-4a63-83eb-8a78ba0dacfe",
   "metadata": {},
   "outputs": [
    {
     "data": {
      "text/plain": [
       "DateCrawled              0\n",
       "Price                    0\n",
       "VehicleType          37490\n",
       "RegistrationYear         0\n",
       "Gearbox              19833\n",
       "Power                    0\n",
       "Model                19705\n",
       "Kilometer                0\n",
       "RegistrationMonth        0\n",
       "FuelType             32895\n",
       "Brand                    0\n",
       "Repaired             71154\n",
       "DateCreated              0\n",
       "NumberOfPictures         0\n",
       "PostalCode               0\n",
       "LastSeen                 0\n",
       "dtype: int64"
      ]
     },
     "execution_count": 7,
     "metadata": {},
     "output_type": "execute_result"
    }
   ],
   "source": [
    "df.isna().sum()"
   ]
  },
  {
   "cell_type": "code",
   "execution_count": 8,
   "id": "29059680-aabf-4660-b6df-37da37e7cad9",
   "metadata": {},
   "outputs": [],
   "source": [
    "df.columns = df.columns.str.lower()"
   ]
  },
  {
   "cell_type": "code",
   "execution_count": 9,
   "id": "c8dda603-0a62-4379-918c-e175be672746",
   "metadata": {},
   "outputs": [],
   "source": [
    "df = df.rename(columns={'vehicletype':'vehicle_type', \n",
    "                        'registrationyear':'registration_year',\n",
    "                        'fueltype':'fuel_type', \n",
    "                        'notrepaired':'not_repaired',})"
   ]
  },
  {
   "cell_type": "code",
   "execution_count": 10,
   "id": "91c8023c-805e-4f16-acec-929434d07241",
   "metadata": {},
   "outputs": [],
   "source": [
    "df = df.drop(['numberofpictures', 'postalcode', 'datecreated', 'datecrawled', 'lastseen', 'registrationmonth'], axis=1)"
   ]
  },
  {
   "cell_type": "code",
   "execution_count": 11,
   "id": "264ae6ca-9bb8-4036-9ef0-a9ed56c5e2e7",
   "metadata": {},
   "outputs": [
    {
     "data": {
      "text/html": [
       "<div>\n",
       "<style scoped>\n",
       "    .dataframe tbody tr th:only-of-type {\n",
       "        vertical-align: middle;\n",
       "    }\n",
       "\n",
       "    .dataframe tbody tr th {\n",
       "        vertical-align: top;\n",
       "    }\n",
       "\n",
       "    .dataframe thead th {\n",
       "        text-align: right;\n",
       "    }\n",
       "</style>\n",
       "<table border=\"1\" class=\"dataframe\">\n",
       "  <thead>\n",
       "    <tr style=\"text-align: right;\">\n",
       "      <th></th>\n",
       "      <th>price</th>\n",
       "      <th>vehicle_type</th>\n",
       "      <th>registration_year</th>\n",
       "      <th>gearbox</th>\n",
       "      <th>power</th>\n",
       "      <th>model</th>\n",
       "      <th>kilometer</th>\n",
       "      <th>fuel_type</th>\n",
       "      <th>brand</th>\n",
       "      <th>repaired</th>\n",
       "    </tr>\n",
       "  </thead>\n",
       "  <tbody>\n",
       "    <tr>\n",
       "      <th>0</th>\n",
       "      <td>480</td>\n",
       "      <td>NaN</td>\n",
       "      <td>1993</td>\n",
       "      <td>manual</td>\n",
       "      <td>0</td>\n",
       "      <td>golf</td>\n",
       "      <td>150000</td>\n",
       "      <td>petrol</td>\n",
       "      <td>volkswagen</td>\n",
       "      <td>NaN</td>\n",
       "    </tr>\n",
       "    <tr>\n",
       "      <th>1</th>\n",
       "      <td>18300</td>\n",
       "      <td>coupe</td>\n",
       "      <td>2011</td>\n",
       "      <td>manual</td>\n",
       "      <td>190</td>\n",
       "      <td>NaN</td>\n",
       "      <td>125000</td>\n",
       "      <td>gasoline</td>\n",
       "      <td>audi</td>\n",
       "      <td>yes</td>\n",
       "    </tr>\n",
       "    <tr>\n",
       "      <th>2</th>\n",
       "      <td>9800</td>\n",
       "      <td>suv</td>\n",
       "      <td>2004</td>\n",
       "      <td>auto</td>\n",
       "      <td>163</td>\n",
       "      <td>grand</td>\n",
       "      <td>125000</td>\n",
       "      <td>gasoline</td>\n",
       "      <td>jeep</td>\n",
       "      <td>NaN</td>\n",
       "    </tr>\n",
       "    <tr>\n",
       "      <th>8</th>\n",
       "      <td>14500</td>\n",
       "      <td>bus</td>\n",
       "      <td>2014</td>\n",
       "      <td>manual</td>\n",
       "      <td>125</td>\n",
       "      <td>c_max</td>\n",
       "      <td>30000</td>\n",
       "      <td>petrol</td>\n",
       "      <td>ford</td>\n",
       "      <td>NaN</td>\n",
       "    </tr>\n",
       "    <tr>\n",
       "      <th>9</th>\n",
       "      <td>999</td>\n",
       "      <td>small</td>\n",
       "      <td>1998</td>\n",
       "      <td>manual</td>\n",
       "      <td>101</td>\n",
       "      <td>golf</td>\n",
       "      <td>150000</td>\n",
       "      <td>NaN</td>\n",
       "      <td>volkswagen</td>\n",
       "      <td>NaN</td>\n",
       "    </tr>\n",
       "    <tr>\n",
       "      <th>...</th>\n",
       "      <td>...</td>\n",
       "      <td>...</td>\n",
       "      <td>...</td>\n",
       "      <td>...</td>\n",
       "      <td>...</td>\n",
       "      <td>...</td>\n",
       "      <td>...</td>\n",
       "      <td>...</td>\n",
       "      <td>...</td>\n",
       "      <td>...</td>\n",
       "    </tr>\n",
       "    <tr>\n",
       "      <th>354357</th>\n",
       "      <td>1690</td>\n",
       "      <td>wagon</td>\n",
       "      <td>2004</td>\n",
       "      <td>manual</td>\n",
       "      <td>55</td>\n",
       "      <td>fabia</td>\n",
       "      <td>150000</td>\n",
       "      <td>petrol</td>\n",
       "      <td>skoda</td>\n",
       "      <td>NaN</td>\n",
       "    </tr>\n",
       "    <tr>\n",
       "      <th>354361</th>\n",
       "      <td>5250</td>\n",
       "      <td>NaN</td>\n",
       "      <td>2016</td>\n",
       "      <td>auto</td>\n",
       "      <td>150</td>\n",
       "      <td>159</td>\n",
       "      <td>150000</td>\n",
       "      <td>NaN</td>\n",
       "      <td>alfa_romeo</td>\n",
       "      <td>no</td>\n",
       "    </tr>\n",
       "    <tr>\n",
       "      <th>354364</th>\n",
       "      <td>0</td>\n",
       "      <td>NaN</td>\n",
       "      <td>2005</td>\n",
       "      <td>manual</td>\n",
       "      <td>0</td>\n",
       "      <td>colt</td>\n",
       "      <td>150000</td>\n",
       "      <td>petrol</td>\n",
       "      <td>mitsubishi</td>\n",
       "      <td>yes</td>\n",
       "    </tr>\n",
       "    <tr>\n",
       "      <th>354365</th>\n",
       "      <td>2200</td>\n",
       "      <td>NaN</td>\n",
       "      <td>2005</td>\n",
       "      <td>NaN</td>\n",
       "      <td>0</td>\n",
       "      <td>NaN</td>\n",
       "      <td>20000</td>\n",
       "      <td>NaN</td>\n",
       "      <td>sonstige_autos</td>\n",
       "      <td>NaN</td>\n",
       "    </tr>\n",
       "    <tr>\n",
       "      <th>354368</th>\n",
       "      <td>3400</td>\n",
       "      <td>wagon</td>\n",
       "      <td>2002</td>\n",
       "      <td>manual</td>\n",
       "      <td>100</td>\n",
       "      <td>golf</td>\n",
       "      <td>150000</td>\n",
       "      <td>gasoline</td>\n",
       "      <td>volkswagen</td>\n",
       "      <td>NaN</td>\n",
       "    </tr>\n",
       "  </tbody>\n",
       "</table>\n",
       "<p>108555 rows × 10 columns</p>\n",
       "</div>"
      ],
      "text/plain": [
       "        price vehicle_type  registration_year gearbox  power  model  \\\n",
       "0         480          NaN               1993  manual      0   golf   \n",
       "1       18300        coupe               2011  manual    190    NaN   \n",
       "2        9800          suv               2004    auto    163  grand   \n",
       "8       14500          bus               2014  manual    125  c_max   \n",
       "9         999        small               1998  manual    101   golf   \n",
       "...       ...          ...                ...     ...    ...    ...   \n",
       "354357   1690        wagon               2004  manual     55  fabia   \n",
       "354361   5250          NaN               2016    auto    150    159   \n",
       "354364      0          NaN               2005  manual      0   colt   \n",
       "354365   2200          NaN               2005     NaN      0    NaN   \n",
       "354368   3400        wagon               2002  manual    100   golf   \n",
       "\n",
       "        kilometer fuel_type           brand repaired  \n",
       "0          150000    petrol      volkswagen      NaN  \n",
       "1          125000  gasoline            audi      yes  \n",
       "2          125000  gasoline            jeep      NaN  \n",
       "8           30000    petrol            ford      NaN  \n",
       "9          150000       NaN      volkswagen      NaN  \n",
       "...           ...       ...             ...      ...  \n",
       "354357     150000    petrol           skoda      NaN  \n",
       "354361     150000       NaN      alfa_romeo       no  \n",
       "354364     150000    petrol      mitsubishi      yes  \n",
       "354365      20000       NaN  sonstige_autos      NaN  \n",
       "354368     150000  gasoline      volkswagen      NaN  \n",
       "\n",
       "[108555 rows x 10 columns]"
      ]
     },
     "execution_count": 11,
     "metadata": {},
     "output_type": "execute_result"
    }
   ],
   "source": [
    "rows_with_missing_values = df[df.isnull().any(axis=1)]\n",
    "rows_with_missing_values"
   ]
  },
  {
   "cell_type": "markdown",
   "id": "63dd38db",
   "metadata": {},
   "source": [
    "В столбеце registration_year значения не могут быть больше 2016 и меньше 1930."
   ]
  },
  {
   "cell_type": "code",
   "execution_count": 12,
   "id": "d904730e",
   "metadata": {},
   "outputs": [],
   "source": [
    "df = df.loc[(df['registration_year'] <= 2016) & (df['registration_year'] >= 1930)]"
   ]
  },
  {
   "cell_type": "markdown",
   "id": "8347a798",
   "metadata": {},
   "source": [
    "Теперь перейдем к столбцу с мощностью. Посмотрим на распределение мощности."
   ]
  },
  {
   "cell_type": "code",
   "execution_count": 13,
   "id": "d2d9693c",
   "metadata": {},
   "outputs": [
    {
     "data": {
      "image/png": "[encoded data removed]",
      "text/plain": [
       "<Figure size 640x480 with 1 Axes>"
      ]
     },
     "metadata": {},
     "output_type": "display_data"
    }
   ],
   "source": [
    "sns.histplot(df['power'])\n",
    "plt.title('Распределение значения power')\n",
    "plt.xlabel('Мощность')\n",
    "plt.ylabel('Частота')\n",
    "plt.show()"
   ]
  },
  {
   "cell_type": "markdown",
   "id": "651b7520",
   "metadata": {},
   "source": [
    "Похоже в данных есть выбросы, обрежем график по оси x."
   ]
  },
  {
   "cell_type": "code",
   "execution_count": 14,
   "id": "693f0bdb",
   "metadata": {},
   "outputs": [
    {
     "data": {
      "image/png": "[encoded data removed]",
      "text/plain": [
       "<Figure size 640x480 with 1 Axes>"
      ]
     },
     "metadata": {},
     "output_type": "display_data"
    }
   ],
   "source": [
    "sns.histplot(df['power'])\n",
    "\n",
    "plt.xlim(0, 1000) \n",
    "\n",
    "plt.title('Распределение значения power')\n",
    "plt.xlabel('Мощность')\n",
    "plt.ylabel('Частота')\n",
    "\n",
    "plt.show()"
   ]
  },
  {
   "cell_type": "markdown",
   "id": "67b862d2",
   "metadata": {},
   "source": [
    "Узнаем в каком промежутке находиться 99% значений столбца power."
   ]
  },
  {
   "cell_type": "code",
   "execution_count": 15,
   "id": "5ac084a2",
   "metadata": {},
   "outputs": [
    {
     "name": "stdout",
     "output_type": "stream",
     "text": [
      "99-й процентиль: 300.0\n"
     ]
    }
   ],
   "source": [
    "percentile_99 = np.percentile(df['power'], 99)\n",
    "\n",
    "print(\"99-й процентиль:\", percentile_99)"
   ]
  },
  {
   "cell_type": "markdown",
   "id": "a908663d",
   "metadata": {},
   "source": [
    "Почти все значения столбца находяться до 300, следовательно мы можем исключить все значения выше данного порога. А все пропуски заполним значениями медианы."
   ]
  },
  {
   "cell_type": "code",
   "execution_count": 16,
   "id": "0bd62a3c",
   "metadata": {},
   "outputs": [],
   "source": [
    "df = df.loc[df['power'] <= 300]"
   ]
  },
  {
   "cell_type": "code",
   "execution_count": 17,
   "id": "898080e7",
   "metadata": {},
   "outputs": [],
   "source": [
    "df['power'] = df['power'].replace(0, df['power'].median())"
   ]
  },
  {
   "cell_type": "markdown",
   "id": "bb9d39b9",
   "metadata": {},
   "source": [
    "Перейдем к столбцу с ценой, также посмотрим на распределение значений"
   ]
  },
  {
   "cell_type": "code",
   "execution_count": 18,
   "id": "d1ec503b",
   "metadata": {},
   "outputs": [
    {
     "data": {
      "image/png": "[encoded data removed]",
      "text/plain": [
       "<Figure size 640x480 with 1 Axes>"
      ]
     },
     "metadata": {},
     "output_type": "display_data"
    }
   ],
   "source": [
    "sns.histplot(df['price'])\n",
    "plt.title('Распределение значения power')\n",
    "plt.xlabel('Цена')\n",
    "plt.ylabel('Частота')\n",
    "plt.show()"
   ]
  },
  {
   "cell_type": "markdown",
   "id": "d053e21d",
   "metadata": {},
   "source": [
    "У нас очень много нулевых значений, однако вряд ли объявления с нулевой ценой - реальны. Цена не может быть нулевой, к тому же это целевой признак, удалим такие значения. "
   ]
  },
  {
   "cell_type": "code",
   "execution_count": 19,
   "id": "dd8eaf5c",
   "metadata": {},
   "outputs": [],
   "source": [
    "df = df[df['price'] != 0]"
   ]
  },
  {
   "cell_type": "markdown",
   "id": "a1043190",
   "metadata": {},
   "source": [
    "В столбцах 'vehicle_type', 'fuel_type', 'gearbox', 'repaired' и 'model' мы не можем логически заполнить пропуски, следовательно заполним значение unknown."
   ]
  },
  {
   "cell_type": "code",
   "execution_count": 20,
   "id": "40947c5e",
   "metadata": {},
   "outputs": [],
   "source": [
    "columns_to_fill = ['vehicle_type', 'fuel_type', 'gearbox', 'repaired', 'model']\n",
    "df[columns_to_fill] = df[columns_to_fill].fillna('unknown')"
   ]
  },
  {
   "cell_type": "code",
   "execution_count": 21,
   "id": "08c05ee4",
   "metadata": {},
   "outputs": [
    {
     "data": {
      "text/plain": [
       "42152"
      ]
     },
     "execution_count": 21,
     "metadata": {},
     "output_type": "execute_result"
    }
   ],
   "source": [
    "df.duplicated().sum()"
   ]
  },
  {
   "cell_type": "markdown",
   "id": "bab040c3",
   "metadata": {},
   "source": [
    "Удалим дубликаты"
   ]
  },
  {
   "cell_type": "code",
   "execution_count": 22,
   "id": "2997e139-17a8-4122-9b6a-479548f5e7df",
   "metadata": {},
   "outputs": [],
   "source": [
    "df.drop_duplicates(inplace=True)"
   ]
  },
  {
   "cell_type": "code",
   "execution_count": 23,
   "id": "97b8ac9a",
   "metadata": {},
   "outputs": [
    {
     "data": {
      "text/plain": [
       "0"
      ]
     },
     "execution_count": 23,
     "metadata": {},
     "output_type": "execute_result"
    }
   ],
   "source": [
    "df.duplicated().sum()"
   ]
  },
  {
   "cell_type": "code",
   "execution_count": 24,
   "id": "acc2d54c-7290-4403-a75e-074db9423bc3",
   "metadata": {},
   "outputs": [
    {
     "name": "stdout",
     "output_type": "stream",
     "text": [
      "<class 'pandas.core.frame.DataFrame'>\n",
      "Int64Index: 284259 entries, 0 to 354368\n",
      "Data columns (total 10 columns):\n",
      " #   Column             Non-Null Count   Dtype \n",
      "---  ------             --------------   ----- \n",
      " 0   price              284259 non-null  int64 \n",
      " 1   vehicle_type       284259 non-null  object\n",
      " 2   registration_year  284259 non-null  int64 \n",
      " 3   gearbox            284259 non-null  object\n",
      " 4   power              284259 non-null  int64 \n",
      " 5   model              284259 non-null  object\n",
      " 6   kilometer          284259 non-null  int64 \n",
      " 7   fuel_type          284259 non-null  object\n",
      " 8   brand              284259 non-null  object\n",
      " 9   repaired           284259 non-null  object\n",
      "dtypes: int64(4), object(6)\n",
      "memory usage: 23.9+ MB\n"
     ]
    }
   ],
   "source": [
    "df.info()"
   ]
  },
  {
   "cell_type": "markdown",
   "id": "a4d49965-bdca-41f1-a494-ef8e8e95f29a",
   "metadata": {},
   "source": [
    "### Промежуточный итог:\n",
    "1. **Импортировали необходимые библиотеки**\n",
    "2. **Посмотрели на данные и обнаружили в них недочеты которые необходимо исправить**\n",
    "3. **Обработали датафрейм:**\n",
    "- **Исправили названия столбцов** \n",
    "- **Убрали лишние столбцы, так как они не несут в себе ключевую информацию необходимую для построения качественных моделей**\n",
    "- **Заполнили пропущенные значения на 'unknown', так как невозможно уточнить их**\n",
    "- **Отфильтровали строки**\n",
    "- **Удалили дубликаты**"
   ]
  },
  {
   "cell_type": "markdown",
   "id": "c20ece35-6289-4870-809e-9e0e6e8eee20",
   "metadata": {},
   "source": [
    "### Кодируем и разделяем выборки  "
   ]
  },
  {
   "cell_type": "code",
   "execution_count": 25,
   "id": "068591c7",
   "metadata": {},
   "outputs": [],
   "source": [
    "category = ['vehicle_type', 'gearbox', 'model', 'fuel_type', 'brand', 'repaired']\n",
    "num_columns = ['registration_year', 'power', 'kilometer']"
   ]
  },
  {
   "cell_type": "code",
   "execution_count": 26,
   "id": "ef03b22b",
   "metadata": {},
   "outputs": [],
   "source": [
    "target = df['price']\n",
    "features = df.drop('price', axis=1)\n",
    "features_train, features_test, target_train, target_test = train_test_split(features, \\\n",
    "                                                target, test_size=0.2, random_state=12345)"
   ]
  },
  {
   "cell_type": "code",
   "execution_count": 27,
   "id": "26905a48",
   "metadata": {},
   "outputs": [],
   "source": [
    "encoder = OrdinalEncoder(handle_unknown='use_encoded_value', unknown_value=-1)\n",
    "features_train_en = encoder.fit_transform(features_train[category])\n",
    "features_test_en = encoder.transform(features_test[category])"
   ]
  },
  {
   "cell_type": "code",
   "execution_count": 28,
   "id": "7aad436f",
   "metadata": {},
   "outputs": [],
   "source": [
    "encoder_col_names = encoder.get_feature_names_out()"
   ]
  },
  {
   "cell_type": "code",
   "execution_count": 29,
   "id": "85b357b4",
   "metadata": {},
   "outputs": [],
   "source": [
    "scaler = StandardScaler()\n",
    "features_train_scaled = scaler.fit_transform(features_train[num_columns])\n",
    "features_test_scaled = scaler.transform(features_test[num_columns])"
   ]
  },
  {
   "cell_type": "code",
   "execution_count": 30,
   "id": "f68f486f",
   "metadata": {},
   "outputs": [],
   "source": [
    "features_train_en = pd.DataFrame(features_train_en, columns=encoder_col_names)\n",
    "features_test_en = pd.DataFrame(features_test_en, columns=encoder_col_names)"
   ]
  },
  {
   "cell_type": "code",
   "execution_count": 31,
   "id": "dd8ec366",
   "metadata": {},
   "outputs": [],
   "source": [
    "features_train_scaled = pd.DataFrame(features_train_scaled, columns=num_columns)\n",
    "features_test_scaled = pd.DataFrame(features_test_scaled, columns=num_columns)"
   ]
  },
  {
   "cell_type": "code",
   "execution_count": 32,
   "id": "a52f88b8",
   "metadata": {},
   "outputs": [],
   "source": [
    "features_train = pd.concat([features_train_en, features_train_scaled], axis=1)\n",
    "features_test = pd.concat([features_test_en, features_test_scaled], axis=1)"
   ]
  },
  {
   "cell_type": "code",
   "execution_count": 33,
   "id": "2062fb02",
   "metadata": {},
   "outputs": [],
   "source": [
    "target_lgb = df['price']\n",
    "features_lgb = df.drop('price', axis=1)\n",
    "\n",
    "for c in features_lgb.columns:\n",
    "  col_type = features_lgb[c].dtype\n",
    "  if col_type == 'object':\n",
    "    features_lgb[c] = features_lgb[c].astype('category')\n",
    "\n",
    "features_train_lgb, features_test_lgb, target_train_lgb, target_test_lgb = train_test_split(features_lgb, \\\n",
    "                                                            target_lgb, test_size=0.2, random_state=12345)\n"
   ]
  },
  {
   "cell_type": "code",
   "execution_count": 34,
   "id": "186d68ec",
   "metadata": {},
   "outputs": [],
   "source": [
    "target_train_lgb = target_train_lgb.astype(int)"
   ]
  },
  {
   "cell_type": "code",
   "execution_count": 35,
   "id": "bd0fffbc",
   "metadata": {},
   "outputs": [],
   "source": [
    "scaler = StandardScaler()\n",
    "features_train_lgb = scaler.fit_transform(features_train_lgb[num_columns])\n",
    "features_test_lgb = scaler.transform(features_test_lgb[num_columns])"
   ]
  },
  {
   "cell_type": "markdown",
   "id": "933aa218-3f8e-4842-a2c6-da744983e9b7",
   "metadata": {},
   "source": [
    "## Вывод: \n",
    "- Признаки были преобразованы с использованием кодирования ordinal. Далее данные были разделены на тестовую и обучающую выборки. После этого признаки были масштабированы, приведены к стандартному нормальному распределению, с использованием метода StandardScaler.\n",
    "- Теперь можно приступать к обучению моделей."
   ]
  },
  {
   "cell_type": "markdown",
   "id": "f0c64f83-0296-46ad-ba6d-3bcfe5dd30e7",
   "metadata": {},
   "source": [
    "# Обучение моделей"
   ]
  },
  {
   "cell_type": "code",
   "execution_count": 36,
   "id": "9b99eefb",
   "metadata": {},
   "outputs": [
    {
     "name": "stdout",
     "output_type": "stream",
     "text": [
      "Лучшая RMSE дерева решений на кросс-валидации : 2089.9137693950543 при параметрах {'min_samples_leaf': 2, 'max_depth': 9}\n",
      "\n",
      "Время обучения: 0.27 секунды\n",
      "\n",
      "Время предсказания: 0.01 секунды\n"
     ]
    }
   ],
   "source": [
    "model_dt= DecisionTreeRegressor(random_state=12345)\n",
    "param_grid = {\n",
    "    \"max_depth\" : range(1,10),\n",
    "    \"min_samples_leaf\" : range(1,11)\n",
    "}\n",
    "\n",
    "rs_search = RandomizedSearchCV(model_dt, param_distributions=param_grid, scoring='neg_root_mean_squared_error', cv=5)\n",
    "start_time = time.time()\n",
    "dt_model = rs_search.fit(features_train, target_train)\n",
    "end_time = time.time()\n",
    "\n",
    "execution_time = round(end_time - start_time, 1)\n",
    "\n",
    "best_model_tree = dt_model.best_estimator_\n",
    "\n",
    "start = time.time()\n",
    "\n",
    "best_model_tree.fit(features_train, target_train)\n",
    "\n",
    "end = time.time()\n",
    "\n",
    "learning_time = round(end-start, 2)\n",
    "\n",
    "start = time.time()\n",
    "\n",
    "best_model_tree.predict(features_train)\n",
    "\n",
    "end = time.time()\n",
    "\n",
    "prediction_time = round(end-start, 2)\n",
    "\n",
    "print(f'Лучшая RMSE дерева решений на кросс-валидации : {-rs_search.best_score_} при параметрах {rs_search.best_params_}')\n",
    "print(f'\\nВремя обучения: {learning_time} секунды')\n",
    "print(f'\\nВремя предсказания: {prediction_time} секунды')"
   ]
  },
  {
   "cell_type": "markdown",
   "id": "ec37db9f-a0c1-4aac-b2e2-fbd7eb44fa66",
   "metadata": {},
   "source": [
    "### CatBoostRegressor"
   ]
  },
  {
   "cell_type": "code",
   "execution_count": 37,
   "id": "cae29d32",
   "metadata": {},
   "outputs": [
    {
     "name": "stdout",
     "output_type": "stream",
     "text": [
      "CPU times: user 40 µs, sys: 180 µs, total: 220 µs\n",
      "Wall time: 1.44 ms\n"
     ]
    }
   ],
   "source": [
    "%%time\n",
    "\n",
    "catboost = CatBoostRegressor(loss_function='RMSE', random_state=12345, verbose=False)\n",
    "\n",
    "param_grid = {\n",
    "    'depth': [1, 10],\n",
    "    'learning_rate': np.arange(0.1, 1, 0.2)\n",
    "}"
   ]
  },
  {
   "cell_type": "code",
   "execution_count": 38,
   "id": "d1952683",
   "metadata": {
    "scrolled": true
   },
   "outputs": [
    {
     "data": {
      "text/html": [
       "<style>#sk-container-id-1 {color: black;background-color: white;}#sk-container-id-1 pre{padding: 0;}#sk-container-id-1 div.sk-toggleable {background-color: white;}#sk-container-id-1 label.sk-toggleable__label {cursor: pointer;display: block;width: 100%;margin-bottom: 0;padding: 0.3em;box-sizing: border-box;text-align: center;}#sk-container-id-1 label.sk-toggleable__label-arrow:before {content: \"▸\";float: left;margin-right: 0.25em;color: #696969;}#sk-container-id-1 label.sk-toggleable__label-arrow:hover:before {color: black;}#sk-container-id-1 div.sk-estimator:hover label.sk-toggleable__label-arrow:before {color: black;}#sk-container-id-1 div.sk-toggleable__content {max-height: 0;max-width: 0;overflow: hidden;text-align: left;background-color: #f0f8ff;}#sk-container-id-1 div.sk-toggleable__content pre {margin: 0.2em;color: black;border-radius: 0.25em;background-color: #f0f8ff;}#sk-container-id-1 input.sk-toggleable__control:checked~div.sk-toggleable__content {max-height: 200px;max-width: 100%;overflow: auto;}#sk-container-id-1 input.sk-toggleable__control:checked~label.sk-toggleable__label-arrow:before {content: \"▾\";}#sk-container-id-1 div.sk-estimator input.sk-toggleable__control:checked~label.sk-toggleable__label {background-color: #d4ebff;}#sk-container-id-1 div.sk-label input.sk-toggleable__control:checked~label.sk-toggleable__label {background-color: #d4ebff;}#sk-container-id-1 input.sk-hidden--visually {border: 0;clip: rect(1px 1px 1px 1px);clip: rect(1px, 1px, 1px, 1px);height: 1px;margin: -1px;overflow: hidden;padding: 0;position: absolute;width: 1px;}#sk-container-id-1 div.sk-estimator {font-family: monospace;background-color: #f0f8ff;border: 1px dotted black;border-radius: 0.25em;box-sizing: border-box;margin-bottom: 0.5em;}#sk-container-id-1 div.sk-estimator:hover {background-color: #d4ebff;}#sk-container-id-1 div.sk-parallel-item::after {content: \"\";width: 100%;border-bottom: 1px solid gray;flex-grow: 1;}#sk-container-id-1 div.sk-label:hover label.sk-toggleable__label {background-color: #d4ebff;}#sk-container-id-1 div.sk-serial::before {content: \"\";position: absolute;border-left: 1px solid gray;box-sizing: border-box;top: 0;bottom: 0;left: 50%;z-index: 0;}#sk-container-id-1 div.sk-serial {display: flex;flex-direction: column;align-items: center;background-color: white;padding-right: 0.2em;padding-left: 0.2em;position: relative;}#sk-container-id-1 div.sk-item {position: relative;z-index: 1;}#sk-container-id-1 div.sk-parallel {display: flex;align-items: stretch;justify-content: center;background-color: white;position: relative;}#sk-container-id-1 div.sk-item::before, #sk-container-id-1 div.sk-parallel-item::before {content: \"\";position: absolute;border-left: 1px solid gray;box-sizing: border-box;top: 0;bottom: 0;left: 50%;z-index: -1;}#sk-container-id-1 div.sk-parallel-item {display: flex;flex-direction: column;z-index: 1;position: relative;background-color: white;}#sk-container-id-1 div.sk-parallel-item:first-child::after {align-self: flex-end;width: 50%;}#sk-container-id-1 div.sk-parallel-item:last-child::after {align-self: flex-start;width: 50%;}#sk-container-id-1 div.sk-parallel-item:only-child::after {width: 0;}#sk-container-id-1 div.sk-dashed-wrapped {border: 1px dashed gray;margin: 0 0.4em 0.5em 0.4em;box-sizing: border-box;padding-bottom: 0.4em;background-color: white;}#sk-container-id-1 div.sk-label label {font-family: monospace;font-weight: bold;display: inline-block;line-height: 1.2em;}#sk-container-id-1 div.sk-label-container {text-align: center;}#sk-container-id-1 div.sk-container {/* jupyter's `normalize.less` sets `[hidden] { display: none; }` but bootstrap.min.css set `[hidden] { display: none !important; }` so we also need the `!important` here to be able to override the default hidden behavior on the sphinx rendered scikit-learn.org. See: https://github.com/scikit-learn/scikit-learn/issues/21755 */display: inline-block !important;position: relative;}#sk-container-id-1 div.sk-text-repr-fallback {display: none;}</style><div id=\"sk-container-id-1\" class=\"sk-top-container\"><div class=\"sk-text-repr-fallback\"><pre>RandomizedSearchCV(cv=3,\n",
       "                   estimator=&lt;catboost.core.CatBoostRegressor object at 0x282ad3f10&gt;,\n",
       "                   param_distributions={&#x27;depth&#x27;: [1, 10],\n",
       "                                        &#x27;learning_rate&#x27;: array([0.1, 0.3, 0.5, 0.7, 0.9])},\n",
       "                   scoring=&#x27;neg_root_mean_squared_error&#x27;)</pre><b>In a Jupyter environment, please rerun this cell to show the HTML representation or trust the notebook. <br />On GitHub, the HTML representation is unable to render, please try loading this page with nbviewer.org.</b></div><div class=\"sk-container\" hidden><div class=\"sk-item sk-dashed-wrapped\"><div class=\"sk-label-container\"><div class=\"sk-label sk-toggleable\"><input class=\"sk-toggleable__control sk-hidden--visually\" id=\"sk-estimator-id-1\" type=\"checkbox\" ><label for=\"sk-estimator-id-1\" class=\"sk-toggleable__label sk-toggleable__label-arrow\">RandomizedSearchCV</label><div class=\"sk-toggleable__content\"><pre>RandomizedSearchCV(cv=3,\n",
       "                   estimator=&lt;catboost.core.CatBoostRegressor object at 0x282ad3f10&gt;,\n",
       "                   param_distributions={&#x27;depth&#x27;: [1, 10],\n",
       "                                        &#x27;learning_rate&#x27;: array([0.1, 0.3, 0.5, 0.7, 0.9])},\n",
       "                   scoring=&#x27;neg_root_mean_squared_error&#x27;)</pre></div></div></div><div class=\"sk-parallel\"><div class=\"sk-parallel-item\"><div class=\"sk-item\"><div class=\"sk-label-container\"><div class=\"sk-label sk-toggleable\"><input class=\"sk-toggleable__control sk-hidden--visually\" id=\"sk-estimator-id-2\" type=\"checkbox\" ><label for=\"sk-estimator-id-2\" class=\"sk-toggleable__label sk-toggleable__label-arrow\">estimator: CatBoostRegressor</label><div class=\"sk-toggleable__content\"><pre>&lt;catboost.core.CatBoostRegressor object at 0x282ad3f10&gt;</pre></div></div></div><div class=\"sk-serial\"><div class=\"sk-item\"><div class=\"sk-estimator sk-toggleable\"><input class=\"sk-toggleable__control sk-hidden--visually\" id=\"sk-estimator-id-3\" type=\"checkbox\" ><label for=\"sk-estimator-id-3\" class=\"sk-toggleable__label sk-toggleable__label-arrow\">CatBoostRegressor</label><div class=\"sk-toggleable__content\"><pre>&lt;catboost.core.CatBoostRegressor object at 0x282ad3f10&gt;</pre></div></div></div></div></div></div></div></div></div></div>"
      ],
      "text/plain": [
       "RandomizedSearchCV(cv=3,\n",
       "                   estimator=<catboost.core.CatBoostRegressor object at 0x282ad3f10>,\n",
       "                   param_distributions={'depth': [1, 10],\n",
       "                                        'learning_rate': array([0.1, 0.3, 0.5, 0.7, 0.9])},\n",
       "                   scoring='neg_root_mean_squared_error')"
      ]
     },
     "execution_count": 38,
     "metadata": {},
     "output_type": "execute_result"
    }
   ],
   "source": [
    "rs_search_cat = RandomizedSearchCV(catboost, param_distributions=param_grid, scoring='neg_root_mean_squared_error', cv=3)\n",
    "\n",
    "rs_search_cat.fit(features_train, target_train)"
   ]
  },
  {
   "cell_type": "code",
   "execution_count": 39,
   "id": "df98ddf8",
   "metadata": {},
   "outputs": [],
   "source": [
    "best_model_cat = rs_search_cat.best_estimator_\n",
    "\n",
    "start = time.time()\n",
    "\n",
    "best_model_cat.fit(features_train, target_train)\n",
    "\n",
    "end = time.time()\n",
    "\n",
    "learning_time = round(end-start, 2)\n",
    "\n",
    "start = time.time()\n",
    "\n",
    "best_model_cat.predict(features_train)\n",
    "\n",
    "end = time.time()\n",
    "\n",
    "prediction_time = round(end-start, 2)"
   ]
  },
  {
   "cell_type": "code",
   "execution_count": 40,
   "id": "6a4dea7e",
   "metadata": {},
   "outputs": [
    {
     "name": "stdout",
     "output_type": "stream",
     "text": [
      "Лучшая RMSE: 1621.3202955256063 при параметрах {'learning_rate': 0.1, 'depth': 10}\n",
      "\n",
      "Время обучения: 17.95 секунд\n",
      "\n",
      "Время предсказания: 0.14 секунд\n"
     ]
    }
   ],
   "source": [
    "print(f'Лучшая RMSE: {-rs_search_cat.best_score_} при параметрах {rs_search_cat.best_params_}')\n",
    "print(f'\\nВремя обучения: {learning_time} секунд')\n",
    "print(f'\\nВремя предсказания: {prediction_time} секунд')"
   ]
  },
  {
   "cell_type": "markdown",
   "id": "dfa64343-8566-433d-a546-c22135031c5c",
   "metadata": {},
   "source": [
    "### LightGBM"
   ]
  },
  {
   "cell_type": "code",
   "execution_count": 43,
   "id": "302ae0f9-2106-4f29-b9fd-88b0847a7520",
   "metadata": {},
   "outputs": [
    {
     "name": "stdout",
     "output_type": "stream",
     "text": [
      "CPU times: user 3min 29s, sys: 51.8 s, total: 4min 21s\n",
      "Wall time: 38.7 s\n"
     ]
    },
    {
     "data": {
      "text/html": [
       "<style>#sk-container-id-2 {color: black;background-color: white;}#sk-container-id-2 pre{padding: 0;}#sk-container-id-2 div.sk-toggleable {background-color: white;}#sk-container-id-2 label.sk-toggleable__label {cursor: pointer;display: block;width: 100%;margin-bottom: 0;padding: 0.3em;box-sizing: border-box;text-align: center;}#sk-container-id-2 label.sk-toggleable__label-arrow:before {content: \"▸\";float: left;margin-right: 0.25em;color: #696969;}#sk-container-id-2 label.sk-toggleable__label-arrow:hover:before {color: black;}#sk-container-id-2 div.sk-estimator:hover label.sk-toggleable__label-arrow:before {color: black;}#sk-container-id-2 div.sk-toggleable__content {max-height: 0;max-width: 0;overflow: hidden;text-align: left;background-color: #f0f8ff;}#sk-container-id-2 div.sk-toggleable__content pre {margin: 0.2em;color: black;border-radius: 0.25em;background-color: #f0f8ff;}#sk-container-id-2 input.sk-toggleable__control:checked~div.sk-toggleable__content {max-height: 200px;max-width: 100%;overflow: auto;}#sk-container-id-2 input.sk-toggleable__control:checked~label.sk-toggleable__label-arrow:before {content: \"▾\";}#sk-container-id-2 div.sk-estimator input.sk-toggleable__control:checked~label.sk-toggleable__label {background-color: #d4ebff;}#sk-container-id-2 div.sk-label input.sk-toggleable__control:checked~label.sk-toggleable__label {background-color: #d4ebff;}#sk-container-id-2 input.sk-hidden--visually {border: 0;clip: rect(1px 1px 1px 1px);clip: rect(1px, 1px, 1px, 1px);height: 1px;margin: -1px;overflow: hidden;padding: 0;position: absolute;width: 1px;}#sk-container-id-2 div.sk-estimator {font-family: monospace;background-color: #f0f8ff;border: 1px dotted black;border-radius: 0.25em;box-sizing: border-box;margin-bottom: 0.5em;}#sk-container-id-2 div.sk-estimator:hover {background-color: #d4ebff;}#sk-container-id-2 div.sk-parallel-item::after {content: \"\";width: 100%;border-bottom: 1px solid gray;flex-grow: 1;}#sk-container-id-2 div.sk-label:hover label.sk-toggleable__label {background-color: #d4ebff;}#sk-container-id-2 div.sk-serial::before {content: \"\";position: absolute;border-left: 1px solid gray;box-sizing: border-box;top: 0;bottom: 0;left: 50%;z-index: 0;}#sk-container-id-2 div.sk-serial {display: flex;flex-direction: column;align-items: center;background-color: white;padding-right: 0.2em;padding-left: 0.2em;position: relative;}#sk-container-id-2 div.sk-item {position: relative;z-index: 1;}#sk-container-id-2 div.sk-parallel {display: flex;align-items: stretch;justify-content: center;background-color: white;position: relative;}#sk-container-id-2 div.sk-item::before, #sk-container-id-2 div.sk-parallel-item::before {content: \"\";position: absolute;border-left: 1px solid gray;box-sizing: border-box;top: 0;bottom: 0;left: 50%;z-index: -1;}#sk-container-id-2 div.sk-parallel-item {display: flex;flex-direction: column;z-index: 1;position: relative;background-color: white;}#sk-container-id-2 div.sk-parallel-item:first-child::after {align-self: flex-end;width: 50%;}#sk-container-id-2 div.sk-parallel-item:last-child::after {align-self: flex-start;width: 50%;}#sk-container-id-2 div.sk-parallel-item:only-child::after {width: 0;}#sk-container-id-2 div.sk-dashed-wrapped {border: 1px dashed gray;margin: 0 0.4em 0.5em 0.4em;box-sizing: border-box;padding-bottom: 0.4em;background-color: white;}#sk-container-id-2 div.sk-label label {font-family: monospace;font-weight: bold;display: inline-block;line-height: 1.2em;}#sk-container-id-2 div.sk-label-container {text-align: center;}#sk-container-id-2 div.sk-container {/* jupyter's `normalize.less` sets `[hidden] { display: none; }` but bootstrap.min.css set `[hidden] { display: none !important; }` so we also need the `!important` here to be able to override the default hidden behavior on the sphinx rendered scikit-learn.org. See: https://github.com/scikit-learn/scikit-learn/issues/21755 */display: inline-block !important;position: relative;}#sk-container-id-2 div.sk-text-repr-fallback {display: none;}</style><div id=\"sk-container-id-2\" class=\"sk-top-container\"><div class=\"sk-text-repr-fallback\"><pre>RandomizedSearchCV(cv=5,\n",
       "                   estimator=LGBMRegressor(random_state=12345, verbosity=-1),\n",
       "                   param_distributions={&#x27;learning_rate&#x27;: [0.05, 0.1, 0.2],\n",
       "                                        &#x27;max_depth&#x27;: [5, 10, 15],\n",
       "                                        &#x27;n_estimators&#x27;: [100, 200, 300]},\n",
       "                   scoring=&#x27;neg_root_mean_squared_error&#x27;)</pre><b>In a Jupyter environment, please rerun this cell to show the HTML representation or trust the notebook. <br />On GitHub, the HTML representation is unable to render, please try loading this page with nbviewer.org.</b></div><div class=\"sk-container\" hidden><div class=\"sk-item sk-dashed-wrapped\"><div class=\"sk-label-container\"><div class=\"sk-label sk-toggleable\"><input class=\"sk-toggleable__control sk-hidden--visually\" id=\"sk-estimator-id-4\" type=\"checkbox\" ><label for=\"sk-estimator-id-4\" class=\"sk-toggleable__label sk-toggleable__label-arrow\">RandomizedSearchCV</label><div class=\"sk-toggleable__content\"><pre>RandomizedSearchCV(cv=5,\n",
       "                   estimator=LGBMRegressor(random_state=12345, verbosity=-1),\n",
       "                   param_distributions={&#x27;learning_rate&#x27;: [0.05, 0.1, 0.2],\n",
       "                                        &#x27;max_depth&#x27;: [5, 10, 15],\n",
       "                                        &#x27;n_estimators&#x27;: [100, 200, 300]},\n",
       "                   scoring=&#x27;neg_root_mean_squared_error&#x27;)</pre></div></div></div><div class=\"sk-parallel\"><div class=\"sk-parallel-item\"><div class=\"sk-item\"><div class=\"sk-label-container\"><div class=\"sk-label sk-toggleable\"><input class=\"sk-toggleable__control sk-hidden--visually\" id=\"sk-estimator-id-5\" type=\"checkbox\" ><label for=\"sk-estimator-id-5\" class=\"sk-toggleable__label sk-toggleable__label-arrow\">estimator: LGBMRegressor</label><div class=\"sk-toggleable__content\"><pre>LGBMRegressor(random_state=12345, verbosity=-1)</pre></div></div></div><div class=\"sk-serial\"><div class=\"sk-item\"><div class=\"sk-estimator sk-toggleable\"><input class=\"sk-toggleable__control sk-hidden--visually\" id=\"sk-estimator-id-6\" type=\"checkbox\" ><label for=\"sk-estimator-id-6\" class=\"sk-toggleable__label sk-toggleable__label-arrow\">LGBMRegressor</label><div class=\"sk-toggleable__content\"><pre>LGBMRegressor(random_state=12345, verbosity=-1)</pre></div></div></div></div></div></div></div></div></div></div>"
      ],
      "text/plain": [
       "RandomizedSearchCV(cv=5,\n",
       "                   estimator=LGBMRegressor(random_state=12345, verbosity=-1),\n",
       "                   param_distributions={'learning_rate': [0.05, 0.1, 0.2],\n",
       "                                        'max_depth': [5, 10, 15],\n",
       "                                        'n_estimators': [100, 200, 300]},\n",
       "                   scoring='neg_root_mean_squared_error')"
      ]
     },
     "execution_count": 43,
     "metadata": {},
     "output_type": "execute_result"
    }
   ],
   "source": [
    "%%time\n",
    "estim_new = lgb.LGBMRegressor(random_state=12345, verbosity=-1)\n",
    "\n",
    "param_grid = {\n",
    "    'n_estimators': [100, 200, 300],\n",
    "    'max_depth': [5, 10, 15],\n",
    "    'learning_rate': [0.05, 0.1, 0.2]\n",
    "}\n",
    "\n",
    "\n",
    "gbm = RandomizedSearchCV(estim_new, param_distributions=param_grid, cv=5, scoring='neg_root_mean_squared_error')\n",
    "\n",
    "gbm.fit(features_train_lgb, target_train_lgb)"
   ]
  },
  {
   "cell_type": "code",
   "execution_count": 44,
   "id": "77529d29",
   "metadata": {},
   "outputs": [
    {
     "name": "stdout",
     "output_type": "stream",
     "text": [
      "Лучшая RMSE: 2122.414125473505 при параметрах {'n_estimators': 300, 'max_depth': 15, 'learning_rate': 0.2}\n",
      "\n",
      "Время обучения: 1.4 секунд\n",
      "\n",
      "Время предсказания: 0.58 секунд\n"
     ]
    }
   ],
   "source": [
    "best_model_gmb = gbm.best_estimator_\n",
    "\n",
    "start = time.time()\n",
    "\n",
    "best_model_gmb.fit(features_train, target_train)\n",
    "\n",
    "end = time.time()\n",
    "\n",
    "learning_time = round(end-start, 2)\n",
    "\n",
    "start = time.time()\n",
    "\n",
    "best_model_gmb.predict(features_train)\n",
    "\n",
    "end = time.time()\n",
    "\n",
    "prediction_time = round(end-start, 2)\n",
    "\n",
    "print(f'Лучшая RMSE: {-gbm.best_score_} при параметрах {gbm.best_params_}')\n",
    "print(f'\\nВремя обучения: {learning_time} секунд')\n",
    "print(f'\\nВремя предсказания: {prediction_time} секунд')"
   ]
  },
  {
   "cell_type": "markdown",
   "id": "e01a276b-403d-420e-ad9c-0c4648b4df2e",
   "metadata": {},
   "source": [
    "## Вывод: \n",
    "\n",
    "1. **В результате обучения моделей DecisionTreeRegressor, CatBoostRegressor и LightGBM на кросс-валидации  были получены следующие значения метрики RMSE:**\n",
    "\n",
    "- Для DecisionTreeRegressor: 2161, время обучения - 0.24 секунд, время предсказания - 0.01\n",
    "- Для CatBoostRegressor: 1621, время обучения - 15.35 секунд, время предсказания - 0.11\n",
    "- Для LightGBM: 2122, время обучения - 1.69 секунд, время предсказания - 0.56\n",
    "\n",
    "2. **Сравнивая эти результаты, можно сделать вывод о том, что модель линейной регрессии демонстрирует неплохую производительность, однако CatBoostRegressor показывает лучшие результаты с более низким значением RMSE. LightGBM тоже показал хорошие результаты, но немного уступает CatBoostRegressor в качестве. CatBoostRegressor представляется наиболее эффективным выбором. Однако, при этом, следует также учитывать время обучения, предсказания где линейная регрессия является более быстрой по сравнению с градиентным бустингом и CatBoostRegressor.**\n",
    " \n",
    "Для тестирования мы будем использовать модель с лучшим показателем RMSE - CatBoostRegressor"
   ]
  },
  {
   "cell_type": "markdown",
   "id": "951f2727",
   "metadata": {},
   "source": [
    "## Тестирование лучшей модели"
   ]
  },
  {
   "cell_type": "code",
   "execution_count": 45,
   "id": "12978a48",
   "metadata": {},
   "outputs": [
    {
     "name": "stdout",
     "output_type": "stream",
     "text": [
      "CPU times: user 208 ms, sys: 8.27 ms, total: 217 ms\n",
      "Wall time: 45.6 ms\n"
     ]
    }
   ],
   "source": [
    "%%time\n",
    "prediction_test = rs_search_cat.best_estimator_.predict(features_test)"
   ]
  },
  {
   "cell_type": "code",
   "execution_count": 46,
   "id": "81f44f40",
   "metadata": {},
   "outputs": [
    {
     "name": "stdout",
     "output_type": "stream",
     "text": [
      "CatBoost: 1584.5408165774375\n",
      "CPU times: user 225 ms, sys: 5.81 ms, total: 231 ms\n",
      "Wall time: 47.7 ms\n"
     ]
    }
   ],
   "source": [
    "%%time\n",
    "print(\"CatBoost:\",mean_squared_error(target_test, rs_search_cat.best_estimator_.predict(features_test), squared=False))"
   ]
  },
  {
   "cell_type": "markdown",
   "id": "0bd6b0c8-6ab5-454c-b6de-f1a0a0d4f692",
   "metadata": {},
   "source": [
    "# Общие выводы:\n",
    "В итоге, после предварительной обработки данных, подготовки признаков и обучения различных моделей, мы получили оптимальную модель для предсказания стоимости автомобилей. Исходя из требований заказчика к скорости обучения, предсказания и качеству модели, наилучшим вариантом оказалась модель CatBoost. Подбор параметров позволил достичь достаточно низкого RMSE на тестовой выборке. Важно отметить, что данная модель демонстрирует хорошие показатели и по скорости, что делает ее оптимальным выбором для решения поставленной задачи."
   ]
  }
 ],
 "metadata": {
  "ExecuteTimeLog": [
   {
    "duration": 1275,
    "start_time": "2024-01-11T08:51:52.196Z"
   },
   {
    "duration": 1125,
    "start_time": "2024-01-11T08:51:53.473Z"
   },
   {
    "duration": 24,
    "start_time": "2024-01-11T08:51:54.599Z"
   },
   {
    "duration": 172,
    "start_time": "2024-01-11T08:51:54.625Z"
   },
   {
    "duration": 102,
    "start_time": "2024-01-11T08:51:57.412Z"
   },
   {
    "duration": 144,
    "start_time": "2024-01-11T08:51:59.051Z"
   },
   {
    "duration": 1237,
    "start_time": "2024-01-13T10:45:14.523Z"
   },
   {
    "duration": 1083,
    "start_time": "2024-01-13T10:45:15.762Z"
   },
   {
    "duration": 23,
    "start_time": "2024-01-13T10:45:16.847Z"
   },
   {
    "duration": 153,
    "start_time": "2024-01-13T10:45:16.871Z"
   },
   {
    "duration": 91,
    "start_time": "2024-01-13T10:45:17.026Z"
   },
   {
    "duration": 137,
    "start_time": "2024-01-13T10:45:17.118Z"
   },
   {
    "duration": 11,
    "start_time": "2024-01-13T10:45:17.256Z"
   },
   {
    "duration": 54,
    "start_time": "2024-01-13T10:45:17.268Z"
   },
   {
    "duration": 45,
    "start_time": "2024-01-13T10:45:17.323Z"
   },
   {
    "duration": 100,
    "start_time": "2024-01-13T10:45:17.369Z"
   },
   {
    "duration": 126,
    "start_time": "2024-01-13T10:45:17.470Z"
   },
   {
    "duration": 31,
    "start_time": "2024-01-13T10:45:17.597Z"
   },
   {
    "duration": 112,
    "start_time": "2024-01-13T10:45:17.630Z"
   },
   {
    "duration": 0,
    "start_time": "2024-01-13T10:45:17.744Z"
   },
   {
    "duration": 0,
    "start_time": "2024-01-13T10:45:17.746Z"
   },
   {
    "duration": 0,
    "start_time": "2024-01-13T10:45:17.747Z"
   },
   {
    "duration": 0,
    "start_time": "2024-01-13T10:45:17.749Z"
   },
   {
    "duration": 0,
    "start_time": "2024-01-13T10:45:17.750Z"
   },
   {
    "duration": 0,
    "start_time": "2024-01-13T10:45:17.765Z"
   },
   {
    "duration": 0,
    "start_time": "2024-01-13T10:45:17.767Z"
   },
   {
    "duration": 346,
    "start_time": "2024-01-13T10:46:07.659Z"
   },
   {
    "duration": 12796,
    "start_time": "2024-01-13T10:46:19.588Z"
   },
   {
    "duration": 12878,
    "start_time": "2024-01-13T10:48:24.434Z"
   },
   {
    "duration": 12626,
    "start_time": "2024-01-13T10:48:53.614Z"
   },
   {
    "duration": 7,
    "start_time": "2024-01-13T10:50:30.312Z"
   },
   {
    "duration": 6,
    "start_time": "2024-01-13T10:50:36.568Z"
   },
   {
    "duration": 7,
    "start_time": "2024-01-13T10:50:56.920Z"
   },
   {
    "duration": 12509,
    "start_time": "2024-01-13T10:53:17.295Z"
   },
   {
    "duration": 104,
    "start_time": "2024-01-13T10:54:18.549Z"
   },
   {
    "duration": 1281,
    "start_time": "2024-01-13T10:55:30.697Z"
   },
   {
    "duration": 464,
    "start_time": "2024-01-13T10:55:35.735Z"
   },
   {
    "duration": 29,
    "start_time": "2024-01-13T11:19:35.450Z"
   },
   {
    "duration": 28,
    "start_time": "2024-01-13T11:20:05.700Z"
   },
   {
    "duration": 100,
    "start_time": "2024-01-13T11:23:18.659Z"
   },
   {
    "duration": 136,
    "start_time": "2024-01-13T11:24:53.639Z"
   },
   {
    "duration": 149,
    "start_time": "2024-01-13T11:25:16.187Z"
   },
   {
    "duration": 113,
    "start_time": "2024-01-13T11:25:20.803Z"
   },
   {
    "duration": 514,
    "start_time": "2024-01-13T11:26:20.946Z"
   },
   {
    "duration": 20,
    "start_time": "2024-01-13T11:26:23.171Z"
   },
   {
    "duration": 4,
    "start_time": "2024-01-13T11:26:50.057Z"
   },
   {
    "duration": 1233,
    "start_time": "2024-01-13T11:26:53.833Z"
   },
   {
    "duration": 497,
    "start_time": "2024-01-13T11:28:18.771Z"
   },
   {
    "duration": 11,
    "start_time": "2024-01-13T11:28:25.572Z"
   },
   {
    "duration": 4,
    "start_time": "2024-01-13T11:28:43.318Z"
   },
   {
    "duration": 9,
    "start_time": "2024-01-13T11:28:47.993Z"
   },
   {
    "duration": 4,
    "start_time": "2024-01-13T11:29:02.670Z"
   },
   {
    "duration": 794,
    "start_time": "2024-01-13T11:29:08.084Z"
   },
   {
    "duration": 58,
    "start_time": "2024-01-13T11:29:19.186Z"
   },
   {
    "duration": 19,
    "start_time": "2024-01-13T11:29:26.901Z"
   },
   {
    "duration": 65,
    "start_time": "2024-01-13T11:29:35.957Z"
   },
   {
    "duration": 22,
    "start_time": "2024-01-13T11:29:45.680Z"
   },
   {
    "duration": 62,
    "start_time": "2024-01-13T11:29:57.731Z"
   },
   {
    "duration": 3,
    "start_time": "2024-01-13T11:30:04.854Z"
   },
   {
    "duration": 22,
    "start_time": "2024-01-13T11:30:13.132Z"
   },
   {
    "duration": 14583,
    "start_time": "2024-01-13T11:30:29.792Z"
   },
   {
    "duration": 110,
    "start_time": "2024-01-13T11:30:44.467Z"
   },
   {
    "duration": 5,
    "start_time": "2024-01-13T11:30:48.342Z"
   },
   {
    "duration": 101,
    "start_time": "2024-01-13T11:34:18.103Z"
   },
   {
    "duration": 4,
    "start_time": "2024-01-13T11:34:40.315Z"
   },
   {
    "duration": 1467,
    "start_time": "2024-01-13T11:37:54.134Z"
   },
   {
    "duration": 896,
    "start_time": "2024-01-13T11:37:55.603Z"
   },
   {
    "duration": 20,
    "start_time": "2024-01-13T11:37:56.500Z"
   },
   {
    "duration": 170,
    "start_time": "2024-01-13T11:37:56.523Z"
   },
   {
    "duration": 102,
    "start_time": "2024-01-13T11:37:56.694Z"
   },
   {
    "duration": 139,
    "start_time": "2024-01-13T11:37:56.797Z"
   },
   {
    "duration": 19,
    "start_time": "2024-01-13T11:37:56.938Z"
   },
   {
    "duration": 91,
    "start_time": "2024-01-13T11:37:56.958Z"
   },
   {
    "duration": 34,
    "start_time": "2024-01-13T11:37:57.051Z"
   },
   {
    "duration": 143,
    "start_time": "2024-01-13T11:37:57.087Z"
   },
   {
    "duration": 43,
    "start_time": "2024-01-13T11:37:57.232Z"
   },
   {
    "duration": 13130,
    "start_time": "2024-01-13T11:37:57.276Z"
   },
   {
    "duration": 12896,
    "start_time": "2024-01-13T11:38:10.408Z"
   },
   {
    "duration": 7,
    "start_time": "2024-01-13T11:38:23.306Z"
   },
   {
    "duration": 124,
    "start_time": "2024-01-13T11:38:23.314Z"
   },
   {
    "duration": 1304,
    "start_time": "2024-01-13T11:38:23.439Z"
   },
   {
    "duration": 32,
    "start_time": "2024-01-13T11:38:24.744Z"
   },
   {
    "duration": 109,
    "start_time": "2024-01-13T11:38:24.777Z"
   },
   {
    "duration": 142,
    "start_time": "2024-01-13T11:38:24.888Z"
   },
   {
    "duration": 161,
    "start_time": "2024-01-13T11:38:25.031Z"
   },
   {
    "duration": 129,
    "start_time": "2024-01-13T11:38:25.194Z"
   },
   {
    "duration": 82,
    "start_time": "2024-01-13T11:38:25.324Z"
   },
   {
    "duration": 604,
    "start_time": "2024-01-13T11:38:25.407Z"
   },
   {
    "duration": 1254,
    "start_time": "2024-01-13T11:38:26.012Z"
   },
   {
    "duration": 498,
    "start_time": "2024-01-13T11:38:27.267Z"
   },
   {
    "duration": 913,
    "start_time": "2024-01-13T11:38:27.767Z"
   },
   {
    "duration": 72,
    "start_time": "2024-01-13T11:38:28.681Z"
   },
   {
    "duration": 21,
    "start_time": "2024-01-13T11:38:28.765Z"
   },
   {
    "duration": 82,
    "start_time": "2024-01-13T11:38:28.788Z"
   },
   {
    "duration": 23,
    "start_time": "2024-01-13T11:38:28.872Z"
   },
   {
    "duration": 79,
    "start_time": "2024-01-13T11:38:28.897Z"
   },
   {
    "duration": 4,
    "start_time": "2024-01-13T11:38:28.978Z"
   },
   {
    "duration": 23,
    "start_time": "2024-01-13T11:38:28.983Z"
   },
   {
    "duration": 21463,
    "start_time": "2024-01-13T11:38:29.007Z"
   },
   {
    "duration": 195,
    "start_time": "2024-01-13T11:38:50.471Z"
   },
   {
    "duration": 8,
    "start_time": "2024-01-13T11:38:50.668Z"
   },
   {
    "duration": 1468,
    "start_time": "2024-01-13T12:12:28.098Z"
   },
   {
    "duration": 994,
    "start_time": "2024-01-13T12:12:29.568Z"
   },
   {
    "duration": 20,
    "start_time": "2024-01-13T12:12:30.564Z"
   },
   {
    "duration": 210,
    "start_time": "2024-01-13T12:12:30.586Z"
   },
   {
    "duration": 159,
    "start_time": "2024-01-13T12:12:30.797Z"
   },
   {
    "duration": 143,
    "start_time": "2024-01-13T12:12:30.957Z"
   },
   {
    "duration": 38,
    "start_time": "2024-01-13T12:12:31.101Z"
   },
   {
    "duration": 92,
    "start_time": "2024-01-13T12:12:31.141Z"
   },
   {
    "duration": 33,
    "start_time": "2024-01-13T12:12:31.235Z"
   },
   {
    "duration": 147,
    "start_time": "2024-01-13T12:12:31.272Z"
   },
   {
    "duration": 51,
    "start_time": "2024-01-13T12:12:31.420Z"
   },
   {
    "duration": 13942,
    "start_time": "2024-01-13T12:12:31.473Z"
   },
   {
    "duration": 13620,
    "start_time": "2024-01-13T12:12:45.417Z"
   },
   {
    "duration": 6,
    "start_time": "2024-01-13T12:12:59.038Z"
   },
   {
    "duration": 112,
    "start_time": "2024-01-13T12:12:59.046Z"
   },
   {
    "duration": 1341,
    "start_time": "2024-01-13T12:12:59.159Z"
   },
   {
    "duration": 24,
    "start_time": "2024-01-13T12:13:00.503Z"
   },
   {
    "duration": 178,
    "start_time": "2024-01-13T12:13:00.528Z"
   },
   {
    "duration": 160,
    "start_time": "2024-01-13T12:13:00.708Z"
   },
   {
    "duration": 173,
    "start_time": "2024-01-13T12:13:00.869Z"
   },
   {
    "duration": 156,
    "start_time": "2024-01-13T12:13:01.044Z"
   },
   {
    "duration": 86,
    "start_time": "2024-01-13T12:13:01.202Z"
   },
   {
    "duration": 538,
    "start_time": "2024-01-13T12:13:01.290Z"
   },
   {
    "duration": 1337,
    "start_time": "2024-01-13T12:13:01.830Z"
   },
   {
    "duration": 549,
    "start_time": "2024-01-13T12:13:03.169Z"
   },
   {
    "duration": 831,
    "start_time": "2024-01-13T12:13:03.720Z"
   },
   {
    "duration": 63,
    "start_time": "2024-01-13T12:13:04.553Z"
   },
   {
    "duration": 24,
    "start_time": "2024-01-13T12:13:04.619Z"
   },
   {
    "duration": 90,
    "start_time": "2024-01-13T12:13:04.645Z"
   },
   {
    "duration": 3,
    "start_time": "2024-01-13T12:13:04.737Z"
   },
   {
    "duration": 38,
    "start_time": "2024-01-13T12:13:04.742Z"
   },
   {
    "duration": 17891,
    "start_time": "2024-01-13T12:13:04.782Z"
   },
   {
    "duration": 197,
    "start_time": "2024-01-13T12:13:22.675Z"
   },
   {
    "duration": 91,
    "start_time": "2024-01-13T12:13:22.875Z"
   },
   {
    "duration": 48,
    "start_time": "2024-01-13T20:34:39.675Z"
   },
   {
    "duration": 1554,
    "start_time": "2024-01-13T20:34:44.872Z"
   },
   {
    "duration": 1074,
    "start_time": "2024-01-13T20:34:46.428Z"
   },
   {
    "duration": 18,
    "start_time": "2024-01-13T20:34:47.503Z"
   },
   {
    "duration": 149,
    "start_time": "2024-01-13T20:34:47.523Z"
   },
   {
    "duration": 137,
    "start_time": "2024-01-13T20:34:47.674Z"
   },
   {
    "duration": 134,
    "start_time": "2024-01-13T20:34:47.812Z"
   },
   {
    "duration": 4,
    "start_time": "2024-01-13T20:34:47.947Z"
   },
   {
    "duration": 60,
    "start_time": "2024-01-13T20:34:47.952Z"
   },
   {
    "duration": 37,
    "start_time": "2024-01-13T20:34:48.014Z"
   },
   {
    "duration": 120,
    "start_time": "2024-01-13T20:34:48.054Z"
   },
   {
    "duration": 42,
    "start_time": "2024-01-13T20:34:48.175Z"
   },
   {
    "duration": 12340,
    "start_time": "2024-01-13T20:34:48.219Z"
   },
   {
    "duration": 12481,
    "start_time": "2024-01-13T20:35:00.561Z"
   },
   {
    "duration": 7,
    "start_time": "2024-01-13T20:35:13.044Z"
   },
   {
    "duration": 111,
    "start_time": "2024-01-13T20:35:13.052Z"
   },
   {
    "duration": 411,
    "start_time": "2024-01-13T20:35:13.165Z"
   },
   {
    "duration": 23,
    "start_time": "2024-01-13T20:35:13.577Z"
   },
   {
    "duration": 126,
    "start_time": "2024-01-13T20:35:13.601Z"
   },
   {
    "duration": 139,
    "start_time": "2024-01-13T20:35:13.729Z"
   },
   {
    "duration": 157,
    "start_time": "2024-01-13T20:35:13.870Z"
   },
   {
    "duration": 131,
    "start_time": "2024-01-13T20:35:14.029Z"
   },
   {
    "duration": 80,
    "start_time": "2024-01-13T20:35:14.162Z"
   },
   {
    "duration": 101,
    "start_time": "2024-01-13T20:35:14.244Z"
   },
   {
    "duration": 744,
    "start_time": "2024-01-13T20:35:14.347Z"
   },
   {
    "duration": 152,
    "start_time": "2024-01-13T20:35:15.093Z"
   },
   {
    "duration": 0,
    "start_time": "2024-01-13T20:35:15.247Z"
   },
   {
    "duration": 0,
    "start_time": "2024-01-13T20:35:15.249Z"
   },
   {
    "duration": 0,
    "start_time": "2024-01-13T20:35:15.250Z"
   },
   {
    "duration": 0,
    "start_time": "2024-01-13T20:35:15.252Z"
   },
   {
    "duration": 0,
    "start_time": "2024-01-13T20:35:15.253Z"
   },
   {
    "duration": 0,
    "start_time": "2024-01-13T20:35:15.256Z"
   },
   {
    "duration": 0,
    "start_time": "2024-01-13T20:35:15.257Z"
   },
   {
    "duration": 0,
    "start_time": "2024-01-13T20:35:15.258Z"
   },
   {
    "duration": 0,
    "start_time": "2024-01-13T20:35:15.260Z"
   },
   {
    "duration": 0,
    "start_time": "2024-01-13T20:35:15.261Z"
   },
   {
    "duration": 0,
    "start_time": "2024-01-13T20:35:15.262Z"
   },
   {
    "duration": 0,
    "start_time": "2024-01-13T20:35:15.264Z"
   },
   {
    "duration": 0,
    "start_time": "2024-01-13T20:35:15.265Z"
   },
   {
    "duration": 1,
    "start_time": "2024-01-13T20:35:15.266Z"
   },
   {
    "duration": 0,
    "start_time": "2024-01-13T20:35:15.268Z"
   },
   {
    "duration": 0,
    "start_time": "2024-01-13T20:35:15.269Z"
   },
   {
    "duration": 0,
    "start_time": "2024-01-13T20:35:15.271Z"
   },
   {
    "duration": 0,
    "start_time": "2024-01-13T20:35:15.272Z"
   },
   {
    "duration": 1559,
    "start_time": "2024-01-14T20:57:08.053Z"
   },
   {
    "duration": 1030,
    "start_time": "2024-01-14T20:57:09.614Z"
   },
   {
    "duration": 18,
    "start_time": "2024-01-14T20:57:10.646Z"
   },
   {
    "duration": 133,
    "start_time": "2024-01-14T20:57:10.665Z"
   },
   {
    "duration": 95,
    "start_time": "2024-01-14T20:57:10.799Z"
   },
   {
    "duration": 125,
    "start_time": "2024-01-14T20:57:10.895Z"
   },
   {
    "duration": 3,
    "start_time": "2024-01-14T20:57:11.021Z"
   },
   {
    "duration": 65,
    "start_time": "2024-01-14T20:57:11.025Z"
   },
   {
    "duration": 31,
    "start_time": "2024-01-14T20:57:11.092Z"
   },
   {
    "duration": 107,
    "start_time": "2024-01-14T20:57:11.125Z"
   },
   {
    "duration": 41,
    "start_time": "2024-01-14T20:57:11.233Z"
   },
   {
    "duration": 11653,
    "start_time": "2024-01-14T20:57:11.276Z"
   },
   {
    "duration": 11655,
    "start_time": "2024-01-14T20:57:22.931Z"
   },
   {
    "duration": 6,
    "start_time": "2024-01-14T20:57:34.589Z"
   },
   {
    "duration": 107,
    "start_time": "2024-01-14T20:57:34.596Z"
   },
   {
    "duration": 433,
    "start_time": "2024-01-14T20:57:34.704Z"
   },
   {
    "duration": 27,
    "start_time": "2024-01-14T20:57:35.139Z"
   },
   {
    "duration": 113,
    "start_time": "2024-01-14T20:57:35.167Z"
   },
   {
    "duration": 134,
    "start_time": "2024-01-14T20:57:35.282Z"
   },
   {
    "duration": 159,
    "start_time": "2024-01-14T20:57:35.419Z"
   },
   {
    "duration": 122,
    "start_time": "2024-01-14T20:57:35.579Z"
   },
   {
    "duration": 79,
    "start_time": "2024-01-14T20:57:35.702Z"
   },
   {
    "duration": 2,
    "start_time": "2024-01-14T20:57:35.782Z"
   },
   {
    "duration": 8,
    "start_time": "2024-01-14T20:57:35.785Z"
   },
   {
    "duration": 9,
    "start_time": "2024-01-14T20:57:35.794Z"
   },
   {
    "duration": 95,
    "start_time": "2024-01-14T20:57:35.804Z"
   },
   {
    "duration": 460,
    "start_time": "2024-01-14T20:57:35.900Z"
   },
   {
    "duration": 98,
    "start_time": "2024-01-14T20:57:36.361Z"
   },
   {
    "duration": 410,
    "start_time": "2024-01-14T20:57:36.460Z"
   },
   {
    "duration": 100,
    "start_time": "2024-01-14T20:57:36.871Z"
   },
   {
    "duration": 0,
    "start_time": "2024-01-14T20:57:36.973Z"
   },
   {
    "duration": 0,
    "start_time": "2024-01-14T20:57:36.974Z"
   },
   {
    "duration": 0,
    "start_time": "2024-01-14T20:57:36.975Z"
   },
   {
    "duration": 0,
    "start_time": "2024-01-14T20:57:36.976Z"
   },
   {
    "duration": 0,
    "start_time": "2024-01-14T20:57:36.977Z"
   },
   {
    "duration": 0,
    "start_time": "2024-01-14T20:57:36.978Z"
   },
   {
    "duration": 0,
    "start_time": "2024-01-14T20:57:36.979Z"
   },
   {
    "duration": 0,
    "start_time": "2024-01-14T20:57:36.980Z"
   },
   {
    "duration": 0,
    "start_time": "2024-01-14T20:57:36.981Z"
   },
   {
    "duration": 0,
    "start_time": "2024-01-14T20:57:36.982Z"
   },
   {
    "duration": 0,
    "start_time": "2024-01-14T20:57:36.983Z"
   },
   {
    "duration": 0,
    "start_time": "2024-01-14T20:57:36.985Z"
   },
   {
    "duration": 0,
    "start_time": "2024-01-14T20:57:36.986Z"
   },
   {
    "duration": 0,
    "start_time": "2024-01-14T20:57:36.987Z"
   },
   {
    "duration": 0,
    "start_time": "2024-01-14T20:57:36.988Z"
   },
   {
    "duration": 0,
    "start_time": "2024-01-14T20:57:36.989Z"
   },
   {
    "duration": 0,
    "start_time": "2024-01-14T20:57:36.990Z"
   },
   {
    "duration": 0,
    "start_time": "2024-01-14T20:57:36.991Z"
   },
   {
    "duration": 0,
    "start_time": "2024-01-14T20:57:36.992Z"
   },
   {
    "duration": 0,
    "start_time": "2024-01-14T20:57:36.993Z"
   },
   {
    "duration": 0,
    "start_time": "2024-01-14T20:57:36.994Z"
   },
   {
    "duration": 0,
    "start_time": "2024-01-14T20:57:36.995Z"
   },
   {
    "duration": 8,
    "start_time": "2024-01-14T20:57:47.254Z"
   },
   {
    "duration": 8,
    "start_time": "2024-01-14T20:57:48.187Z"
   },
   {
    "duration": 8,
    "start_time": "2024-01-14T20:57:48.668Z"
   },
   {
    "duration": 8,
    "start_time": "2024-01-14T20:58:26.958Z"
   },
   {
    "duration": 6367,
    "start_time": "2024-01-14T20:59:55.039Z"
   },
   {
    "duration": 1176,
    "start_time": "2024-01-14T21:00:01.408Z"
   },
   {
    "duration": 824,
    "start_time": "2024-01-14T21:00:02.585Z"
   },
   {
    "duration": 20,
    "start_time": "2024-01-14T21:00:03.410Z"
   },
   {
    "duration": 155,
    "start_time": "2024-01-14T21:00:03.432Z"
   },
   {
    "duration": 102,
    "start_time": "2024-01-14T21:00:03.589Z"
   },
   {
    "duration": 132,
    "start_time": "2024-01-14T21:00:03.693Z"
   },
   {
    "duration": 7,
    "start_time": "2024-01-14T21:00:03.827Z"
   },
   {
    "duration": 99,
    "start_time": "2024-01-14T21:00:03.835Z"
   },
   {
    "duration": 33,
    "start_time": "2024-01-14T21:00:03.936Z"
   },
   {
    "duration": 108,
    "start_time": "2024-01-14T21:00:03.971Z"
   },
   {
    "duration": 86,
    "start_time": "2024-01-14T21:00:04.081Z"
   },
   {
    "duration": 11784,
    "start_time": "2024-01-14T21:00:04.168Z"
   },
   {
    "duration": 11988,
    "start_time": "2024-01-14T21:00:15.955Z"
   },
   {
    "duration": 10,
    "start_time": "2024-01-14T21:00:27.945Z"
   },
   {
    "duration": 111,
    "start_time": "2024-01-14T21:00:27.957Z"
   },
   {
    "duration": 1373,
    "start_time": "2024-01-14T21:00:28.070Z"
   },
   {
    "duration": 25,
    "start_time": "2024-01-14T21:00:29.445Z"
   },
   {
    "duration": 118,
    "start_time": "2024-01-14T21:00:29.472Z"
   },
   {
    "duration": 144,
    "start_time": "2024-01-14T21:00:29.592Z"
   },
   {
    "duration": 161,
    "start_time": "2024-01-14T21:00:29.738Z"
   },
   {
    "duration": 126,
    "start_time": "2024-01-14T21:00:29.901Z"
   },
   {
    "duration": 83,
    "start_time": "2024-01-14T21:00:30.029Z"
   },
   {
    "duration": 20,
    "start_time": "2024-01-14T21:00:30.114Z"
   },
   {
    "duration": 34,
    "start_time": "2024-01-14T21:00:30.136Z"
   },
   {
    "duration": 40,
    "start_time": "2024-01-14T21:00:30.172Z"
   },
   {
    "duration": 148,
    "start_time": "2024-01-14T21:00:30.214Z"
   },
   {
    "duration": 514,
    "start_time": "2024-01-14T21:00:30.363Z"
   },
   {
    "duration": 106,
    "start_time": "2024-01-14T21:00:30.878Z"
   },
   {
    "duration": 954,
    "start_time": "2024-01-14T21:00:30.985Z"
   },
   {
    "duration": 2,
    "start_time": "2024-01-14T21:00:31.941Z"
   },
   {
    "duration": 39,
    "start_time": "2024-01-14T21:00:31.945Z"
   },
   {
    "duration": 6,
    "start_time": "2024-01-14T21:00:31.986Z"
   },
   {
    "duration": 29,
    "start_time": "2024-01-14T21:00:31.993Z"
   },
   {
    "duration": 36,
    "start_time": "2024-01-14T21:00:32.023Z"
   },
   {
    "duration": 180,
    "start_time": "2024-01-14T21:00:32.061Z"
   },
   {
    "duration": 3,
    "start_time": "2024-01-14T21:00:32.242Z"
   },
   {
    "duration": 353,
    "start_time": "2024-01-14T21:00:32.251Z"
   },
   {
    "duration": 2,
    "start_time": "2024-01-14T21:00:32.606Z"
   },
   {
    "duration": 53,
    "start_time": "2024-01-14T21:00:32.610Z"
   },
   {
    "duration": 10,
    "start_time": "2024-01-14T21:00:32.666Z"
   },
   {
    "duration": 10,
    "start_time": "2024-01-14T21:00:32.677Z"
   },
   {
    "duration": 44,
    "start_time": "2024-01-14T21:00:32.689Z"
   },
   {
    "duration": 403386,
    "start_time": "2024-01-14T21:00:32.735Z"
   },
   {
    "duration": 40984,
    "start_time": "2024-01-14T21:07:16.122Z"
   },
   {
    "duration": 220,
    "start_time": "2024-01-14T21:07:57.108Z"
   },
   {
    "duration": 235,
    "start_time": "2024-01-14T21:07:57.330Z"
   },
   {
    "duration": 7227,
    "start_time": "2024-01-15T18:07:17.536Z"
   },
   {
    "duration": 1584,
    "start_time": "2024-01-15T18:07:24.765Z"
   },
   {
    "duration": 2947,
    "start_time": "2024-01-15T18:07:26.350Z"
   },
   {
    "duration": 20,
    "start_time": "2024-01-15T18:07:29.300Z"
   },
   {
    "duration": 179,
    "start_time": "2024-01-15T18:07:29.322Z"
   },
   {
    "duration": 106,
    "start_time": "2024-01-15T18:07:29.502Z"
   },
   {
    "duration": 157,
    "start_time": "2024-01-15T18:07:29.609Z"
   },
   {
    "duration": 4,
    "start_time": "2024-01-15T18:07:29.768Z"
   },
   {
    "duration": 77,
    "start_time": "2024-01-15T18:07:29.774Z"
   },
   {
    "duration": 37,
    "start_time": "2024-01-15T18:07:29.853Z"
   },
   {
    "duration": 124,
    "start_time": "2024-01-15T18:07:29.901Z"
   },
   {
    "duration": 36,
    "start_time": "2024-01-15T18:07:30.027Z"
   },
   {
    "duration": 14025,
    "start_time": "2024-01-15T18:07:30.066Z"
   },
   {
    "duration": 13849,
    "start_time": "2024-01-15T18:07:44.093Z"
   },
   {
    "duration": 7,
    "start_time": "2024-01-15T18:07:57.944Z"
   },
   {
    "duration": 179,
    "start_time": "2024-01-15T18:07:57.953Z"
   },
   {
    "duration": 460,
    "start_time": "2024-01-15T18:07:58.134Z"
   },
   {
    "duration": 29,
    "start_time": "2024-01-15T18:07:58.599Z"
   },
   {
    "duration": 130,
    "start_time": "2024-01-15T18:07:58.630Z"
   },
   {
    "duration": 166,
    "start_time": "2024-01-15T18:07:58.762Z"
   },
   {
    "duration": 167,
    "start_time": "2024-01-15T18:07:58.929Z"
   },
   {
    "duration": 129,
    "start_time": "2024-01-15T18:07:59.100Z"
   },
   {
    "duration": 86,
    "start_time": "2024-01-15T18:07:59.231Z"
   },
   {
    "duration": 2,
    "start_time": "2024-01-15T18:07:59.319Z"
   },
   {
    "duration": 13,
    "start_time": "2024-01-15T18:07:59.322Z"
   },
   {
    "duration": 7,
    "start_time": "2024-01-15T18:07:59.337Z"
   },
   {
    "duration": 96,
    "start_time": "2024-01-15T18:07:59.345Z"
   },
   {
    "duration": 452,
    "start_time": "2024-01-15T18:07:59.443Z"
   },
   {
    "duration": 3,
    "start_time": "2024-01-15T18:07:59.897Z"
   },
   {
    "duration": 23,
    "start_time": "2024-01-15T18:07:59.901Z"
   },
   {
    "duration": 4,
    "start_time": "2024-01-15T18:07:59.926Z"
   },
   {
    "duration": 8,
    "start_time": "2024-01-15T18:07:59.934Z"
   },
   {
    "duration": 18,
    "start_time": "2024-01-15T18:07:59.945Z"
   },
   {
    "duration": 234,
    "start_time": "2024-01-15T18:07:59.965Z"
   },
   {
    "duration": 3,
    "start_time": "2024-01-15T18:08:00.201Z"
   },
   {
    "duration": 70,
    "start_time": "2024-01-15T18:08:00.206Z"
   },
   {
    "duration": 486431,
    "start_time": "2024-01-15T18:08:00.278Z"
   },
   {
    "duration": 162535,
    "start_time": "2024-01-15T18:16:56.773Z"
   },
   {
    "duration": 43199,
    "start_time": "2024-01-15T18:19:39.310Z"
   },
   {
    "duration": 907,
    "start_time": "2024-01-15T18:20:22.510Z"
   },
   {
    "duration": 5,
    "start_time": "2024-01-15T18:20:23.419Z"
   },
   {
    "duration": 315,
    "start_time": "2024-01-15T18:20:23.426Z"
   },
   {
    "duration": 259,
    "start_time": "2024-01-15T18:20:23.743Z"
   },
   {
    "duration": 2653,
    "start_time": "2024-01-15T18:44:02.187Z"
   },
   {
    "duration": 1420,
    "start_time": "2024-01-15T18:44:04.843Z"
   },
   {
    "duration": 1087,
    "start_time": "2024-01-15T18:44:06.265Z"
   },
   {
    "duration": 20,
    "start_time": "2024-01-15T18:44:07.354Z"
   },
   {
    "duration": 174,
    "start_time": "2024-01-15T18:44:07.376Z"
   },
   {
    "duration": 113,
    "start_time": "2024-01-15T18:44:07.552Z"
   },
   {
    "duration": 173,
    "start_time": "2024-01-15T18:44:07.667Z"
   },
   {
    "duration": 4,
    "start_time": "2024-01-15T18:44:07.842Z"
   },
   {
    "duration": 76,
    "start_time": "2024-01-15T18:44:07.848Z"
   },
   {
    "duration": 38,
    "start_time": "2024-01-15T18:44:07.926Z"
   },
   {
    "duration": 135,
    "start_time": "2024-01-15T18:44:07.966Z"
   },
   {
    "duration": 37,
    "start_time": "2024-01-15T18:44:08.103Z"
   },
   {
    "duration": 14184,
    "start_time": "2024-01-15T18:44:08.141Z"
   },
   {
    "duration": 14137,
    "start_time": "2024-01-15T18:44:22.328Z"
   },
   {
    "duration": 8,
    "start_time": "2024-01-15T18:44:36.467Z"
   },
   {
    "duration": 133,
    "start_time": "2024-01-15T18:44:36.477Z"
   },
   {
    "duration": 1445,
    "start_time": "2024-01-15T18:44:36.611Z"
   },
   {
    "duration": 23,
    "start_time": "2024-01-15T18:44:38.059Z"
   },
   {
    "duration": 131,
    "start_time": "2024-01-15T18:44:38.083Z"
   },
   {
    "duration": 152,
    "start_time": "2024-01-15T18:44:38.216Z"
   },
   {
    "duration": 174,
    "start_time": "2024-01-15T18:44:38.370Z"
   },
   {
    "duration": 145,
    "start_time": "2024-01-15T18:44:38.546Z"
   },
   {
    "duration": 90,
    "start_time": "2024-01-15T18:44:38.693Z"
   },
   {
    "duration": 3,
    "start_time": "2024-01-15T18:44:38.784Z"
   },
   {
    "duration": 86,
    "start_time": "2024-01-15T18:44:38.799Z"
   },
   {
    "duration": 439,
    "start_time": "2024-01-15T18:44:38.886Z"
   },
   {
    "duration": 3,
    "start_time": "2024-01-15T18:44:39.326Z"
   },
   {
    "duration": 29,
    "start_time": "2024-01-15T18:44:39.331Z"
   },
   {
    "duration": 3,
    "start_time": "2024-01-15T18:44:39.362Z"
   },
   {
    "duration": 8,
    "start_time": "2024-01-15T18:44:39.367Z"
   },
   {
    "duration": 32,
    "start_time": "2024-01-15T18:44:39.376Z"
   },
   {
    "duration": 207,
    "start_time": "2024-01-15T18:44:39.410Z"
   },
   {
    "duration": 3,
    "start_time": "2024-01-15T18:44:39.619Z"
   },
   {
    "duration": 51,
    "start_time": "2024-01-15T18:44:39.623Z"
   },
   {
    "duration": 488068,
    "start_time": "2024-01-15T18:44:39.676Z"
   },
   {
    "duration": 49510,
    "start_time": "2024-01-15T18:52:47.745Z"
   },
   {
    "duration": 265,
    "start_time": "2024-01-15T18:53:37.257Z"
   },
   {
    "duration": 277,
    "start_time": "2024-01-15T18:53:37.524Z"
   },
   {
    "duration": 291607,
    "start_time": "2024-01-15T18:53:37.804Z"
   },
   {
    "duration": 10000,
    "start_time": "2024-01-15T18:58:29.413Z"
   },
   {
    "duration": 987,
    "start_time": "2024-01-15T18:58:39.417Z"
   },
   {
    "duration": 5,
    "start_time": "2024-01-15T18:58:40.406Z"
   },
   {
    "duration": 281,
    "start_time": "2024-01-15T18:58:40.413Z"
   },
   {
    "duration": 262,
    "start_time": "2024-01-15T18:58:40.696Z"
   },
   {
    "duration": 6552,
    "start_time": "2024-01-16T07:04:34.539Z"
   },
   {
    "duration": 1488,
    "start_time": "2024-01-16T07:04:41.093Z"
   },
   {
    "duration": 1151,
    "start_time": "2024-01-16T07:04:42.583Z"
   },
   {
    "duration": 20,
    "start_time": "2024-01-16T07:04:43.736Z"
   },
   {
    "duration": 157,
    "start_time": "2024-01-16T07:04:43.758Z"
   },
   {
    "duration": 98,
    "start_time": "2024-01-16T07:04:43.917Z"
   },
   {
    "duration": 169,
    "start_time": "2024-01-16T07:04:44.017Z"
   },
   {
    "duration": 14,
    "start_time": "2024-01-16T07:04:44.188Z"
   },
   {
    "duration": 66,
    "start_time": "2024-01-16T07:04:44.204Z"
   },
   {
    "duration": 46,
    "start_time": "2024-01-16T07:04:44.273Z"
   },
   {
    "duration": 125,
    "start_time": "2024-01-16T07:04:44.320Z"
   },
   {
    "duration": 38,
    "start_time": "2024-01-16T07:04:44.447Z"
   },
   {
    "duration": 13619,
    "start_time": "2024-01-16T07:04:44.487Z"
   },
   {
    "duration": 13614,
    "start_time": "2024-01-16T07:04:58.107Z"
   },
   {
    "duration": 6,
    "start_time": "2024-01-16T07:05:11.723Z"
   },
   {
    "duration": 112,
    "start_time": "2024-01-16T07:05:11.731Z"
   },
   {
    "duration": 453,
    "start_time": "2024-01-16T07:05:11.845Z"
   },
   {
    "duration": 29,
    "start_time": "2024-01-16T07:05:12.300Z"
   },
   {
    "duration": 119,
    "start_time": "2024-01-16T07:05:12.331Z"
   },
   {
    "duration": 147,
    "start_time": "2024-01-16T07:05:12.451Z"
   },
   {
    "duration": 165,
    "start_time": "2024-01-16T07:05:12.602Z"
   },
   {
    "duration": 133,
    "start_time": "2024-01-16T07:05:12.769Z"
   },
   {
    "duration": 79,
    "start_time": "2024-01-16T07:05:12.904Z"
   },
   {
    "duration": 3,
    "start_time": "2024-01-16T07:05:12.985Z"
   },
   {
    "duration": 103,
    "start_time": "2024-01-16T07:05:12.989Z"
   },
   {
    "duration": 400,
    "start_time": "2024-01-16T07:05:13.094Z"
   },
   {
    "duration": 2,
    "start_time": "2024-01-16T07:05:13.496Z"
   },
   {
    "duration": 31,
    "start_time": "2024-01-16T07:05:13.500Z"
   },
   {
    "duration": 4,
    "start_time": "2024-01-16T07:05:13.532Z"
   },
   {
    "duration": 4,
    "start_time": "2024-01-16T07:05:13.537Z"
   },
   {
    "duration": 19,
    "start_time": "2024-01-16T07:05:13.543Z"
   },
   {
    "duration": 205,
    "start_time": "2024-01-16T07:05:13.563Z"
   },
   {
    "duration": 3,
    "start_time": "2024-01-16T07:05:13.770Z"
   },
   {
    "duration": 23,
    "start_time": "2024-01-16T07:05:13.775Z"
   },
   {
    "duration": 241,
    "start_time": "2024-01-16T07:05:52.374Z"
   },
   {
    "duration": 893,
    "start_time": "2024-01-16T07:06:24.319Z"
   },
   {
    "duration": 14,
    "start_time": "2024-01-16T07:07:32.756Z"
   },
   {
    "duration": 12,
    "start_time": "2024-01-16T07:07:55.998Z"
   },
   {
    "duration": 13,
    "start_time": "2024-01-16T07:08:06.495Z"
   },
   {
    "duration": 14,
    "start_time": "2024-01-16T07:08:08.608Z"
   },
   {
    "duration": 15,
    "start_time": "2024-01-16T07:08:09.255Z"
   },
   {
    "duration": 849,
    "start_time": "2024-01-16T07:09:05.311Z"
   },
   {
    "duration": 2144,
    "start_time": "2024-01-16T07:09:53.102Z"
   },
   {
    "duration": 860,
    "start_time": "2024-01-16T07:10:01.921Z"
   },
   {
    "duration": 6991,
    "start_time": "2024-03-07T18:49:48.153Z"
   },
   {
    "duration": 1588,
    "start_time": "2024-03-07T18:49:55.147Z"
   },
   {
    "duration": 1177,
    "start_time": "2024-03-07T18:49:56.737Z"
   },
   {
    "duration": 19,
    "start_time": "2024-03-07T18:49:57.917Z"
   },
   {
    "duration": 169,
    "start_time": "2024-03-07T18:49:57.938Z"
   },
   {
    "duration": 99,
    "start_time": "2024-03-07T18:49:58.109Z"
   },
   {
    "duration": 168,
    "start_time": "2024-03-07T18:49:58.209Z"
   },
   {
    "duration": 4,
    "start_time": "2024-03-07T18:49:58.378Z"
   },
   {
    "duration": 70,
    "start_time": "2024-03-07T18:49:58.383Z"
   },
   {
    "duration": 37,
    "start_time": "2024-03-07T18:49:58.455Z"
   },
   {
    "duration": 139,
    "start_time": "2024-03-07T18:49:58.494Z"
   },
   {
    "duration": 34,
    "start_time": "2024-03-07T18:49:58.634Z"
   },
   {
    "duration": 13666,
    "start_time": "2024-03-07T18:49:58.670Z"
   },
   {
    "duration": 13595,
    "start_time": "2024-03-07T18:50:12.338Z"
   },
   {
    "duration": 8,
    "start_time": "2024-03-07T18:50:25.935Z"
   },
   {
    "duration": 442,
    "start_time": "2024-03-07T18:50:25.946Z"
   },
   {
    "duration": 312,
    "start_time": "2024-03-07T18:50:26.390Z"
   },
   {
    "duration": 476,
    "start_time": "2024-03-07T18:50:26.704Z"
   },
   {
    "duration": 23,
    "start_time": "2024-03-07T18:50:27.182Z"
   },
   {
    "duration": 138,
    "start_time": "2024-03-07T18:50:27.206Z"
   },
   {
    "duration": 156,
    "start_time": "2024-03-07T18:50:27.346Z"
   },
   {
    "duration": 187,
    "start_time": "2024-03-07T18:50:27.504Z"
   },
   {
    "duration": 151,
    "start_time": "2024-03-07T18:50:27.693Z"
   },
   {
    "duration": 102,
    "start_time": "2024-03-07T18:50:27.846Z"
   },
   {
    "duration": 3,
    "start_time": "2024-03-07T18:50:27.950Z"
   },
   {
    "duration": 122,
    "start_time": "2024-03-07T18:50:27.955Z"
   },
   {
    "duration": 426,
    "start_time": "2024-03-07T18:50:28.079Z"
   },
   {
    "duration": 3,
    "start_time": "2024-03-07T18:50:28.509Z"
   },
   {
    "duration": 29,
    "start_time": "2024-03-07T18:50:28.513Z"
   },
   {
    "duration": 3,
    "start_time": "2024-03-07T18:50:28.544Z"
   },
   {
    "duration": 10,
    "start_time": "2024-03-07T18:50:28.549Z"
   },
   {
    "duration": 46,
    "start_time": "2024-03-07T18:50:28.561Z"
   },
   {
    "duration": 201,
    "start_time": "2024-03-07T18:50:28.609Z"
   },
   {
    "duration": 13,
    "start_time": "2024-03-07T18:50:28.811Z"
   },
   {
    "duration": 31,
    "start_time": "2024-03-07T18:50:28.826Z"
   },
   {
    "duration": 4,
    "start_time": "2024-03-07T18:50:28.859Z"
   },
   {
    "duration": 1007,
    "start_time": "2024-03-07T18:50:28.864Z"
   },
   {
    "duration": 4,
    "start_time": "2024-03-07T18:50:29.873Z"
   },
   {
    "duration": 490630,
    "start_time": "2024-03-07T18:50:29.878Z"
   },
   {
    "duration": 49244,
    "start_time": "2024-03-07T18:58:40.510Z"
   },
   {
    "duration": 262,
    "start_time": "2024-03-07T18:59:29.756Z"
   },
   {
    "duration": 265,
    "start_time": "2024-03-07T18:59:30.020Z"
   },
   {
    "duration": 219154,
    "start_time": "2024-03-07T18:59:30.287Z"
   },
   {
    "duration": 10393,
    "start_time": "2024-03-07T19:03:09.443Z"
   },
   {
    "duration": 911,
    "start_time": "2024-03-07T19:03:19.837Z"
   },
   {
    "duration": 4,
    "start_time": "2024-03-07T19:03:20.822Z"
   },
   {
    "duration": 259,
    "start_time": "2024-03-07T19:03:20.828Z"
   },
   {
    "duration": 252,
    "start_time": "2024-03-07T19:03:21.089Z"
   },
   {
    "duration": 2553,
    "start_time": "2024-03-07T19:05:15.173Z"
   },
   {
    "duration": 1335,
    "start_time": "2024-03-07T19:05:17.728Z"
   },
   {
    "duration": 947,
    "start_time": "2024-03-07T19:05:19.065Z"
   },
   {
    "duration": 24,
    "start_time": "2024-03-07T19:05:20.014Z"
   },
   {
    "duration": 180,
    "start_time": "2024-03-07T19:05:20.040Z"
   },
   {
    "duration": 124,
    "start_time": "2024-03-07T19:05:20.222Z"
   },
   {
    "duration": 176,
    "start_time": "2024-03-07T19:05:20.348Z"
   },
   {
    "duration": 5,
    "start_time": "2024-03-07T19:05:20.527Z"
   },
   {
    "duration": 62,
    "start_time": "2024-03-07T19:05:20.534Z"
   },
   {
    "duration": 50,
    "start_time": "2024-03-07T19:05:20.600Z"
   },
   {
    "duration": 134,
    "start_time": "2024-03-07T19:05:20.651Z"
   },
   {
    "duration": 44,
    "start_time": "2024-03-07T19:05:20.787Z"
   },
   {
    "duration": 14070,
    "start_time": "2024-03-07T19:05:20.833Z"
   },
   {
    "duration": 13591,
    "start_time": "2024-03-07T19:05:34.904Z"
   },
   {
    "duration": 7,
    "start_time": "2024-03-07T19:05:48.497Z"
   },
   {
    "duration": 82,
    "start_time": "2024-03-07T19:05:48.506Z"
   },
   {
    "duration": 91,
    "start_time": "2024-03-07T19:05:48.590Z"
   },
   {
    "duration": 1362,
    "start_time": "2024-03-07T19:05:48.684Z"
   },
   {
    "duration": 22,
    "start_time": "2024-03-07T19:05:50.048Z"
   },
   {
    "duration": 124,
    "start_time": "2024-03-07T19:05:50.071Z"
   },
   {
    "duration": 153,
    "start_time": "2024-03-07T19:05:50.197Z"
   },
   {
    "duration": 170,
    "start_time": "2024-03-07T19:05:50.351Z"
   },
   {
    "duration": 131,
    "start_time": "2024-03-07T19:05:50.523Z"
   },
   {
    "duration": 100,
    "start_time": "2024-03-07T19:05:50.656Z"
   },
   {
    "duration": 12,
    "start_time": "2024-03-07T19:05:50.758Z"
   },
   {
    "duration": 104,
    "start_time": "2024-03-07T19:05:50.772Z"
   },
   {
    "duration": 0,
    "start_time": "2024-03-07T19:05:50.880Z"
   },
   {
    "duration": 0,
    "start_time": "2024-03-07T19:05:50.882Z"
   },
   {
    "duration": 0,
    "start_time": "2024-03-07T19:05:50.883Z"
   },
   {
    "duration": 0,
    "start_time": "2024-03-07T19:05:50.884Z"
   },
   {
    "duration": 0,
    "start_time": "2024-03-07T19:05:50.886Z"
   },
   {
    "duration": 0,
    "start_time": "2024-03-07T19:05:50.887Z"
   },
   {
    "duration": 0,
    "start_time": "2024-03-07T19:05:50.888Z"
   },
   {
    "duration": 0,
    "start_time": "2024-03-07T19:05:50.889Z"
   },
   {
    "duration": 0,
    "start_time": "2024-03-07T19:05:50.890Z"
   },
   {
    "duration": 0,
    "start_time": "2024-03-07T19:05:50.892Z"
   },
   {
    "duration": 0,
    "start_time": "2024-03-07T19:05:50.893Z"
   },
   {
    "duration": 0,
    "start_time": "2024-03-07T19:05:50.894Z"
   },
   {
    "duration": 0,
    "start_time": "2024-03-07T19:05:50.895Z"
   },
   {
    "duration": 0,
    "start_time": "2024-03-07T19:05:50.896Z"
   },
   {
    "duration": 0,
    "start_time": "2024-03-07T19:05:50.897Z"
   },
   {
    "duration": 0,
    "start_time": "2024-03-07T19:05:50.899Z"
   },
   {
    "duration": 0,
    "start_time": "2024-03-07T19:05:50.900Z"
   },
   {
    "duration": 0,
    "start_time": "2024-03-07T19:05:50.901Z"
   },
   {
    "duration": 0,
    "start_time": "2024-03-07T19:05:50.902Z"
   },
   {
    "duration": 0,
    "start_time": "2024-03-07T19:05:50.903Z"
   },
   {
    "duration": 0,
    "start_time": "2024-03-07T19:05:50.904Z"
   },
   {
    "duration": 0,
    "start_time": "2024-03-07T19:05:50.905Z"
   },
   {
    "duration": 65,
    "start_time": "2024-03-07T19:07:35.770Z"
   },
   {
    "duration": 450,
    "start_time": "2024-03-07T19:07:36.798Z"
   },
   {
    "duration": 3,
    "start_time": "2024-03-07T19:07:37.250Z"
   },
   {
    "duration": 27,
    "start_time": "2024-03-07T19:07:37.255Z"
   },
   {
    "duration": 3,
    "start_time": "2024-03-07T19:07:37.349Z"
   },
   {
    "duration": 4,
    "start_time": "2024-03-07T19:07:37.896Z"
   },
   {
    "duration": 16,
    "start_time": "2024-03-07T19:07:38.091Z"
   },
   {
    "duration": 188,
    "start_time": "2024-03-07T19:07:38.450Z"
   },
   {
    "duration": 3,
    "start_time": "2024-03-07T19:07:38.640Z"
   },
   {
    "duration": 27,
    "start_time": "2024-03-07T19:07:38.829Z"
   },
   {
    "duration": 5,
    "start_time": "2024-03-07T19:07:40.261Z"
   },
   {
    "duration": 118,
    "start_time": "2024-03-07T19:07:41.218Z"
   },
   {
    "duration": 11,
    "start_time": "2024-03-07T19:08:11.539Z"
   },
   {
    "duration": 4,
    "start_time": "2024-03-07T19:08:38.204Z"
   },
   {
    "duration": 10,
    "start_time": "2024-03-07T19:08:50.423Z"
   },
   {
    "duration": 11649,
    "start_time": "2024-03-07T19:14:45.488Z"
   },
   {
    "duration": 5,
    "start_time": "2024-03-07T19:15:29.888Z"
   },
   {
    "duration": 11136,
    "start_time": "2024-03-07T19:22:32.653Z"
   },
   {
    "duration": 5,
    "start_time": "2024-03-07T19:29:18.856Z"
   },
   {
    "duration": 6757,
    "start_time": "2024-03-18T17:02:51.230Z"
   },
   {
    "duration": 1409,
    "start_time": "2024-03-18T17:02:57.989Z"
   },
   {
    "duration": 1105,
    "start_time": "2024-03-18T17:02:59.400Z"
   },
   {
    "duration": 2344,
    "start_time": "2024-03-18T17:03:02.528Z"
   },
   {
    "duration": 1275,
    "start_time": "2024-03-18T17:03:04.874Z"
   },
   {
    "duration": 834,
    "start_time": "2024-03-18T17:03:06.151Z"
   },
   {
    "duration": 18,
    "start_time": "2024-03-18T17:03:06.987Z"
   },
   {
    "duration": 156,
    "start_time": "2024-03-18T17:03:07.006Z"
   },
   {
    "duration": 89,
    "start_time": "2024-03-18T17:03:07.165Z"
   },
   {
    "duration": 149,
    "start_time": "2024-03-18T17:03:07.265Z"
   },
   {
    "duration": 15,
    "start_time": "2024-03-18T17:03:07.416Z"
   },
   {
    "duration": 77,
    "start_time": "2024-03-18T17:03:07.432Z"
   },
   {
    "duration": 33,
    "start_time": "2024-03-18T17:03:07.512Z"
   },
   {
    "duration": 140,
    "start_time": "2024-03-18T17:03:07.547Z"
   },
   {
    "duration": 33,
    "start_time": "2024-03-18T17:03:07.689Z"
   },
   {
    "duration": 12669,
    "start_time": "2024-03-18T17:03:07.723Z"
   },
   {
    "duration": 12853,
    "start_time": "2024-03-18T17:03:20.393Z"
   },
   {
    "duration": 18,
    "start_time": "2024-03-18T17:03:33.247Z"
   },
   {
    "duration": 29,
    "start_time": "2024-03-18T17:03:33.267Z"
   },
   {
    "duration": 87,
    "start_time": "2024-03-18T17:03:33.298Z"
   },
   {
    "duration": 1289,
    "start_time": "2024-03-18T17:03:33.387Z"
   },
   {
    "duration": 21,
    "start_time": "2024-03-18T17:03:34.677Z"
   },
   {
    "duration": 116,
    "start_time": "2024-03-18T17:03:34.700Z"
   },
   {
    "duration": 147,
    "start_time": "2024-03-18T17:03:34.818Z"
   },
   {
    "duration": 151,
    "start_time": "2024-03-18T17:03:34.967Z"
   },
   {
    "duration": 125,
    "start_time": "2024-03-18T17:03:35.119Z"
   },
   {
    "duration": 85,
    "start_time": "2024-03-18T17:03:35.245Z"
   },
   {
    "duration": 2,
    "start_time": "2024-03-18T17:03:35.332Z"
   },
   {
    "duration": 74,
    "start_time": "2024-03-18T17:03:35.336Z"
   },
   {
    "duration": 415,
    "start_time": "2024-03-18T17:03:35.411Z"
   },
   {
    "duration": 3,
    "start_time": "2024-03-18T17:03:35.830Z"
   },
   {
    "duration": 37,
    "start_time": "2024-03-18T17:03:35.835Z"
   },
   {
    "duration": 4,
    "start_time": "2024-03-18T17:03:35.874Z"
   },
   {
    "duration": 19,
    "start_time": "2024-03-18T17:03:35.879Z"
   },
   {
    "duration": 34,
    "start_time": "2024-03-18T17:03:35.902Z"
   },
   {
    "duration": 178,
    "start_time": "2024-03-18T17:03:35.938Z"
   },
   {
    "duration": 3,
    "start_time": "2024-03-18T17:03:36.117Z"
   },
   {
    "duration": 43,
    "start_time": "2024-03-18T17:03:36.121Z"
   },
   {
    "duration": 11216,
    "start_time": "2024-03-18T17:03:36.166Z"
   },
   {
    "duration": 5,
    "start_time": "2024-03-18T17:03:47.383Z"
   },
   {
    "duration": 884480,
    "start_time": "2024-03-18T17:03:47.389Z"
   },
   {
    "duration": 59050,
    "start_time": "2024-03-18T17:18:31.870Z"
   },
   {
    "duration": 4,
    "start_time": "2024-03-18T17:19:30.921Z"
   },
   {
    "duration": 375653,
    "start_time": "2024-03-18T17:19:30.927Z"
   },
   {
    "duration": 22216,
    "start_time": "2024-03-18T17:25:46.581Z"
   },
   {
    "duration": 275,
    "start_time": "2024-03-18T17:26:08.799Z"
   },
   {
    "duration": 225,
    "start_time": "2024-03-18T17:26:09.076Z"
   },
   {
    "duration": 24,
    "start_time": "2024-03-18T17:26:09.342Z"
   }
  ],
  "kernelspec": {
   "display_name": "Python 3 (ipykernel)",
   "language": "python",
   "name": "python3"
  },
  "language_info": {
   "codemirror_mode": {
    "name": "ipython",
    "version": 3
   },
   "file_extension": ".py",
   "mimetype": "text/x-python",
   "name": "python",
   "nbconvert_exporter": "python",
   "pygments_lexer": "ipython3",
   "version": "3.11.5"
  },
  "toc": {
   "base_numbering": 1,
   "nav_menu": {},
   "number_sections": true,
   "sideBar": true,
   "skip_h1_title": true,
   "title_cell": "Table of Contents",
   "title_sidebar": "Contents",
   "toc_cell": false,
   "toc_position": {},
   "toc_section_display": true,
   "toc_window_display": false
  }
 },
 "nbformat": 4,
 "nbformat_minor": 5
}
